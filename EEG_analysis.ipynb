{
  "cells": [
    {
      "cell_type": "markdown",
      "metadata": {
        "id": "view-in-github",
        "colab_type": "text"
      },
      "source": [
        "<a href=\"https://colab.research.google.com/github/cafalchio/EXvivo/blob/main/EEG_analysis.ipynb\" target=\"_parent\"><img src=\"https://colab.research.google.com/assets/colab-badge.svg\" alt=\"Open In Colab\"/></a>"
      ]
    },
    {
      "cell_type": "markdown",
      "metadata": {
        "id": "bX43pIT1UQJo"
      },
      "source": [
        "# Reading data format Intan .dat"
      ]
    },
    {
      "cell_type": "code",
      "execution_count": 14,
      "metadata": {
        "id": "FzNjctGg3w_d"
      },
      "outputs": [],
      "source": [
        "!pip install MNE -q"
      ]
    },
    {
      "cell_type": "markdown",
      "source": [
        "# LFP load and plot"
      ],
      "metadata": {
        "id": "E7tQnAIPC1en"
      }
    },
    {
      "cell_type": "code",
      "execution_count": 1,
      "metadata": {
        "id": "CEk5zsygWfsB"
      },
      "outputs": [],
      "source": [
        "import glob, os\n",
        "import mmap\n",
        "from tqdm.notebook import tqdm\n",
        "\n",
        "import sys\n",
        "import pandas as pd\n",
        "import numpy as np\n",
        "import mne\n",
        "\n",
        "import matplotlib.pyplot as plt\n",
        "import seaborn as sns\n",
        "from scipy.fftpack import fft\n",
        "\n",
        "# import zipfile\n",
        "import struct\n",
        "from resource import getrusage, RUSAGE_SELF\n",
        "import gc\n",
        "gc.enable()\n",
        "# load data\n",
        "sys.path.append(\"/content/drive/MyDrive/aHuman_data_Mark/load_intan_rhd_format/\")\n",
        "from load_intan_rhd_format import read_data, read_header\n",
        "from scipy import signal"
      ]
    },
    {
      "cell_type": "markdown",
      "metadata": {
        "id": "OYeWiprvxRAQ"
      },
      "source": [
        "## **Read metadata from recording**\n",
        "\n",
        "Need the channel distribuition of the probe!!\n",
        "\n",
        "\n",
        "Todo:\n",
        "<ul>\n",
        "    <li>Open channels by name or group</li>\n",
        "    <li>Create MNE objects for EEG</li>\n",
        "    <li>Bandpass </li\n",
        "\n",
        "</ul>"
      ]
    },
    {
      "cell_type": "markdown",
      "metadata": {
        "id": "kLj0CSBHGQVX"
      },
      "source": [
        "Auxiliary functions"
      ]
    },
    {
      "cell_type": "markdown",
      "metadata": {
        "id": "elCFFRW8BuKC"
      },
      "source": [
        "From Matlab file analysis\n",
        "\n",
        "    pxx(1,:) = bandpower(px, f, [1,4], 'psd'); % delta\n",
        "    pxx(2,:) = bandpower(px, f, [1,4], 'psd'); % duplication of delta - for     creating surf plots\n",
        "    pxx(3,:) = bandpower(px, f, [4,8], 'psd'); % theta\n",
        "    pxx(4,:) = bandpower(px, f, [8,13], 'psd'); % alpha\n",
        "    pxx(5,:) = bandpower(px, f, [13, 30], 'psd'); % beta\n",
        "    pxx(6,:) = bandpower(px, f, [20, 80], 'psd'); % low gamma"
      ]
    },
    {
      "cell_type": "code",
      "execution_count": 70,
      "metadata": {
        "id": "UvO2uOMEGN66"
      },
      "outputs": [],
      "source": [
        "# def butter_filter(data, sample_frequency = 25000., freqs=300, filttype = 'highpass', plot_response = False):\n",
        "#     \"\"\"\n",
        "#     Filter using bidirectional zero-phase shift Butterworth filter.\n",
        "#     Parameters\n",
        "#     ----------\n",
        "#     data : ndarray\n",
        "#         Data or signal to filter\n",
        "#     sample_frequency : Sampling frequency\n",
        "\n",
        "#     wp :\n",
        "#         Arguments with filter paramters\n",
        "#     Returns\n",
        "#     -------\n",
        "#     ndarray\n",
        "#         Filtered signal\n",
        "#     \"\"\"\n",
        "#     gstop = 20  # minimum dB attenuation at stopabnd\n",
        "#     gpass = 3  # maximum dB loss during ripple\n",
        "#     nyquist = sample_frequency / 2\n",
        "    \n",
        "#     if filttype == 'lowpass':\n",
        "#         wp = freqs / nyquist\n",
        "#         ws = min([wp + 0.1, 1])\n",
        "#     elif filttype == 'highpass':\n",
        "#         wp = freqs / nyquist\n",
        "#         ws = max([wp - 0.1, 0.01 / nyquist])\n",
        "#     elif filttype == 'bandpass':\n",
        "#         wp = [freq / nyquist for freq in freqs] \n",
        "#         ws = np.zeros_like(wp)\n",
        "#         ws[0] = max([wp[0] - 0.1, 0.01 / nyquist])\n",
        "#         ws[1] = min([wp[1] + 0.1, 1])\n",
        "#     min_order, min_wp = signal.buttord(wp, ws, gpass, gstop)\n",
        "#     b, a = signal.butter(min_order, min_wp, btype=filttype, output='ba')\n",
        "#     freq, h = signal.freqz(b, a, fs=sample_frequency)\n",
        "#     if plot_response:\n",
        "#         # Plot\n",
        "#         fig, ax = plt.subplots(2, 1, figsize=(8, 6))\n",
        "#         ax[0].plot(freq, 20*np.log10(abs(h)), color='blue')\n",
        "#         ax[0].set_title(\"Frequency Response\")\n",
        "#         ax[0].set_ylabel(\"Amplitude (dB)\", color='blue')\n",
        "#         # ax[0].set_xlim([freqs[0], freq[1]*.3])\n",
        "#         ax[0].set_ylim([-25, 10])\n",
        "#         ax[0].grid()\n",
        "#         ax[1].plot(freq, np.unwrap(np.angle(h))*180/np.pi, color='green')\n",
        "#         ax[1].set_ylabel(\"Angle (degrees)\", color='green')\n",
        "#         ax[1].set_xlabel(\"Frequency (Hz)\")\n",
        "#         # ax[1].set_xlim([0, freqs*10])\n",
        "#         ax[1].set_yticks([-90, -60, -30, 0, 30, 60, 90])\n",
        "#         ax[1].set_ylim([-90, 90])\n",
        "#         ax[1].grid()\n",
        "#         plt.show()\n",
        "#         print(f\"\\nwp: {wp} \\nws: {ws}\\norder: {min_order}\")\n",
        "\n",
        "#     return signal.filtfilt(b, a, data)"
      ]
    },
    {
      "cell_type": "code",
      "source": [
        "def input_treatment_times(df, slice):\n",
        "    '''read_times for normal, modified and prepanel\n",
        "\n",
        "    Input: \n",
        "        (df):dataframe with times and treatment\n",
        "        (str):string of slice name\n",
        "    Returns:\n",
        "        list of treatment times\n",
        "        list of treatment names \n",
        "    '''\n",
        "    t_times = df.loc[df.slice == slice]\n",
        "    t_dict = t_times.to_dict('records')[0]\n",
        "    animal = t_dict['animal']\n",
        "    slices = t_dict['chunks']\n",
        "    modified = [int(i) for i in t_dict['modified'].split()]\n",
        "    normal = [int(i) for i in t_dict['normal'].split()]\n",
        "    perapanel = [int(i) for i in t_dict['perapanel'].split()]\n",
        "    t_normal = ['normal'] * len(normal)\n",
        "    t_modified = ['modified'] * len(modified)\n",
        "    t_perapanel = ['perapanel'] * len(perapanel)\n",
        "    times = normal + modified + perapanel\n",
        "    names = t_normal + t_modified + t_perapanel\n",
        "    times, names = zip(*sorted(zip(times, names)))\n",
        "    return list(times), list(names)"
      ],
      "metadata": {
        "id": "6VbeweEbOOaU"
      },
      "execution_count": 3,
      "outputs": []
    },
    {
      "cell_type": "code",
      "source": [
        "def calculate_fft(x, window=1):\n",
        "    '''Calculates the LFP of the signal in windows n minutes'''\n",
        "    win = window * fs * 60\n",
        "    g = int(len(x)/win)\n",
        "    # print(g)\n",
        "    fftx = []\n",
        "    for i in range(g):\n",
        "        start = i*win\n",
        "        end = i*win+win\n",
        "        # print(len(data[start:end])/2500)\n",
        "        fftx.append(fft(x[start:end], n=2048*4))\n",
        "        break\n",
        "    return np.array(fftx)"
      ],
      "metadata": {
        "id": "FBvF5dFCftBE"
      },
      "execution_count": 4,
      "outputs": []
    },
    {
      "cell_type": "code",
      "source": [
        "class LFP:\n",
        "    def __init__(self, path_to_data):\n",
        "        self.path_to_data = path_to_data\n",
        "        self.eeg_files = self.find_eeg_files()\n",
        "        print(f'Found in folder {len(self.eeg_files)} LFP channels')\n",
        "    \n",
        "    def find_eeg_files(self, group='A'):\n",
        "        return sorted(glob.glob(self.path_to_data+'/amp-'+ group +'*.dat'))\n",
        "\n",
        "    def read_channel(self, channel_idx):\n",
        "        '''Function that reads a single LFP channel'''\n",
        "        channel_file = self.eeg_files[channel_idx]        \n",
        "        data_ch = np.fromfile(channel_file, dtype=np.int16)\n",
        "        return data_ch\n",
        "\n",
        "    def plot_raw_sample(self):\n",
        "        ax = plt.figure(figsize=(20,6))\n",
        "        ax = plt.plot(1/self.timestamp[2500:5000], self.data[2500:5000])\n",
        "        ax = plt.ylabel('Voltage uV')\n",
        "        ax = plt.xlabel('Time (s)')\n",
        "        plt.show()\n",
        "        plt.close()\n",
        "\n",
        "    @staticmethod\n",
        "    def get_memory_use():\n",
        "        '''Auxiliary function to check memory use\n",
        "        '''\n",
        "        mem = getrusage(RUSAGE_SELF).ru_maxrss/1024000\n",
        "        print(f'Memory use: {mem:.1f}Gb')\n",
        "    \n",
        "    def load_eeg_channels(self, ch_idxs):\n",
        "        '''\n",
        "        Read a list of channels and transform from microvolts to volts\n",
        "        '''\n",
        "        res = [self.read_channel(ch_idx)/1000000 for ch_idx in tqdm(ch_idxs)] # from microvolts to volts\n",
        "        return res\n",
        "    \n",
        "    def load_mne_channels(self, ch_idxs):\n",
        "        ''' Load channels by its name ex([0,1]) and \n",
        "        transform the EEG to MNE objects, can open 20 \n",
        "        EEGs per time. It is recommended to open \n",
        "        a chunk of 8 files at time\n",
        "        '''\n",
        "        print('Reading channels ..')\n",
        "        data = self.load_eeg_channels(ch_idxs)\n",
        "        ch_types = len(ch_idxs) * ['eeg']\n",
        "        names = [f'ch_{idx}' for idx in ch_idxs]\n",
        "        info = mne.create_info(ch_names=names, sfreq=2500, ch_types=ch_types)\n",
        "        print('Creating mne EEG type')\n",
        "        data =  mne.io.RawArray(np.array(data), info, verbose='ERROR')\n",
        "        print('Applying notch filter')\n",
        "        data = data.notch_filter(np.arange(50, 251, 50)) # Filter 50Hz\n",
        "        print('Bandpassing 2 - 100 Hz')\n",
        "        data = data.filter(l_freq=1, h_freq=100)\n",
        "        self.get_memory_use()\n",
        "        print('Done!')\n",
        "        return data"
      ],
      "metadata": {
        "id": "ROmU_JLY6sYN"
      },
      "execution_count": 71,
      "outputs": []
    },
    {
      "cell_type": "code",
      "source": [
        "# !ls '/content/drive/MyDrive/aHuman_data_Mark/HUMAN_214/slice1_151015_130152/downsampleLFP/'"
      ],
      "metadata": {
        "id": "Ic6iHxnt8dH0"
      },
      "execution_count": 72,
      "outputs": []
    },
    {
      "cell_type": "code",
      "source": [
        "df = pd.read_csv('/content/drive/MyDrive/aHuman_data_Mark/treatment_times.csv')\n",
        "df.head(10)"
      ],
      "metadata": {
        "id": "zuTLYd13SOFP",
        "colab": {
          "base_uri": "https://localhost:8080/",
          "height": 363
        },
        "outputId": "456bbba9-d5e9-46f8-f0d2-36d829205637"
      },
      "execution_count": 59,
      "outputs": [
        {
          "output_type": "execute_result",
          "data": {
            "text/html": [
              "\n",
              "  <div id=\"df-e990f425-c333-4532-b6de-ec1fdea5b20e\">\n",
              "    <div class=\"colab-df-container\">\n",
              "      <div>\n",
              "<style scoped>\n",
              "    .dataframe tbody tr th:only-of-type {\n",
              "        vertical-align: middle;\n",
              "    }\n",
              "\n",
              "    .dataframe tbody tr th {\n",
              "        vertical-align: top;\n",
              "    }\n",
              "\n",
              "    .dataframe thead th {\n",
              "        text-align: right;\n",
              "    }\n",
              "</style>\n",
              "<table border=\"1\" class=\"dataframe\">\n",
              "  <thead>\n",
              "    <tr style=\"text-align: right;\">\n",
              "      <th></th>\n",
              "      <th>slice</th>\n",
              "      <th>animal</th>\n",
              "      <th>normal</th>\n",
              "      <th>modified</th>\n",
              "      <th>perapanel</th>\n",
              "      <th>uM</th>\n",
              "      <th>chunks</th>\n",
              "    </tr>\n",
              "  </thead>\n",
              "  <tbody>\n",
              "    <tr>\n",
              "      <th>0</th>\n",
              "      <td>slice1_151002_185204</td>\n",
              "      <td>212</td>\n",
              "      <td>0</td>\n",
              "      <td>26</td>\n",
              "      <td>89</td>\n",
              "      <td>3</td>\n",
              "      <td>1</td>\n",
              "    </tr>\n",
              "    <tr>\n",
              "      <th>1</th>\n",
              "      <td>slice1_151008_165239</td>\n",
              "      <td>213</td>\n",
              "      <td>0 248</td>\n",
              "      <td>18 178</td>\n",
              "      <td>86</td>\n",
              "      <td>1</td>\n",
              "      <td>1</td>\n",
              "    </tr>\n",
              "    <tr>\n",
              "      <th>2</th>\n",
              "      <td>slice1_151015_130152</td>\n",
              "      <td>214</td>\n",
              "      <td>0 204</td>\n",
              "      <td>20 174</td>\n",
              "      <td>82</td>\n",
              "      <td>1</td>\n",
              "      <td>1</td>\n",
              "    </tr>\n",
              "    <tr>\n",
              "      <th>3</th>\n",
              "      <td>slice2_151015_165854</td>\n",
              "      <td>214</td>\n",
              "      <td>0 204</td>\n",
              "      <td>10 194</td>\n",
              "      <td>88</td>\n",
              "      <td>1</td>\n",
              "      <td>1</td>\n",
              "    </tr>\n",
              "    <tr>\n",
              "      <th>4</th>\n",
              "      <td>slice1_151020_133348</td>\n",
              "      <td>215</td>\n",
              "      <td>0 256</td>\n",
              "      <td>69 196</td>\n",
              "      <td>130</td>\n",
              "      <td>1</td>\n",
              "      <td>1</td>\n",
              "    </tr>\n",
              "    <tr>\n",
              "      <th>5</th>\n",
              "      <td>slice2_151020_185053</td>\n",
              "      <td>215</td>\n",
              "      <td>0 224</td>\n",
              "      <td>50 186</td>\n",
              "      <td>110</td>\n",
              "      <td>1</td>\n",
              "      <td>1</td>\n",
              "    </tr>\n",
              "    <tr>\n",
              "      <th>6</th>\n",
              "      <td>session1_151106_154501</td>\n",
              "      <td>216</td>\n",
              "      <td>0 315</td>\n",
              "      <td>60 255</td>\n",
              "      <td>121 195</td>\n",
              "      <td>1 3</td>\n",
              "      <td>2</td>\n",
              "    </tr>\n",
              "    <tr>\n",
              "      <th>7</th>\n",
              "      <td>human_151124_145847</td>\n",
              "      <td>218</td>\n",
              "      <td>0</td>\n",
              "      <td>20</td>\n",
              "      <td>80</td>\n",
              "      <td>1</td>\n",
              "      <td>2</td>\n",
              "    </tr>\n",
              "    <tr>\n",
              "      <th>8</th>\n",
              "      <td>human_151124_172920</td>\n",
              "      <td>218</td>\n",
              "      <td>0</td>\n",
              "      <td>10</td>\n",
              "      <td>70</td>\n",
              "      <td>1</td>\n",
              "      <td>2</td>\n",
              "    </tr>\n",
              "    <tr>\n",
              "      <th>9</th>\n",
              "      <td>human_151124_200111</td>\n",
              "      <td>218</td>\n",
              "      <td>0</td>\n",
              "      <td>5</td>\n",
              "      <td>55</td>\n",
              "      <td>1</td>\n",
              "      <td>2</td>\n",
              "    </tr>\n",
              "  </tbody>\n",
              "</table>\n",
              "</div>\n",
              "      <button class=\"colab-df-convert\" onclick=\"convertToInteractive('df-e990f425-c333-4532-b6de-ec1fdea5b20e')\"\n",
              "              title=\"Convert this dataframe to an interactive table.\"\n",
              "              style=\"display:none;\">\n",
              "        \n",
              "  <svg xmlns=\"http://www.w3.org/2000/svg\" height=\"24px\"viewBox=\"0 0 24 24\"\n",
              "       width=\"24px\">\n",
              "    <path d=\"M0 0h24v24H0V0z\" fill=\"none\"/>\n",
              "    <path d=\"M18.56 5.44l.94 2.06.94-2.06 2.06-.94-2.06-.94-.94-2.06-.94 2.06-2.06.94zm-11 1L8.5 8.5l.94-2.06 2.06-.94-2.06-.94L8.5 2.5l-.94 2.06-2.06.94zm10 10l.94 2.06.94-2.06 2.06-.94-2.06-.94-.94-2.06-.94 2.06-2.06.94z\"/><path d=\"M17.41 7.96l-1.37-1.37c-.4-.4-.92-.59-1.43-.59-.52 0-1.04.2-1.43.59L10.3 9.45l-7.72 7.72c-.78.78-.78 2.05 0 2.83L4 21.41c.39.39.9.59 1.41.59.51 0 1.02-.2 1.41-.59l7.78-7.78 2.81-2.81c.8-.78.8-2.07 0-2.86zM5.41 20L4 18.59l7.72-7.72 1.47 1.35L5.41 20z\"/>\n",
              "  </svg>\n",
              "      </button>\n",
              "      \n",
              "  <style>\n",
              "    .colab-df-container {\n",
              "      display:flex;\n",
              "      flex-wrap:wrap;\n",
              "      gap: 12px;\n",
              "    }\n",
              "\n",
              "    .colab-df-convert {\n",
              "      background-color: #E8F0FE;\n",
              "      border: none;\n",
              "      border-radius: 50%;\n",
              "      cursor: pointer;\n",
              "      display: none;\n",
              "      fill: #1967D2;\n",
              "      height: 32px;\n",
              "      padding: 0 0 0 0;\n",
              "      width: 32px;\n",
              "    }\n",
              "\n",
              "    .colab-df-convert:hover {\n",
              "      background-color: #E2EBFA;\n",
              "      box-shadow: 0px 1px 2px rgba(60, 64, 67, 0.3), 0px 1px 3px 1px rgba(60, 64, 67, 0.15);\n",
              "      fill: #174EA6;\n",
              "    }\n",
              "\n",
              "    [theme=dark] .colab-df-convert {\n",
              "      background-color: #3B4455;\n",
              "      fill: #D2E3FC;\n",
              "    }\n",
              "\n",
              "    [theme=dark] .colab-df-convert:hover {\n",
              "      background-color: #434B5C;\n",
              "      box-shadow: 0px 1px 3px 1px rgba(0, 0, 0, 0.15);\n",
              "      filter: drop-shadow(0px 1px 2px rgba(0, 0, 0, 0.3));\n",
              "      fill: #FFFFFF;\n",
              "    }\n",
              "  </style>\n",
              "\n",
              "      <script>\n",
              "        const buttonEl =\n",
              "          document.querySelector('#df-e990f425-c333-4532-b6de-ec1fdea5b20e button.colab-df-convert');\n",
              "        buttonEl.style.display =\n",
              "          google.colab.kernel.accessAllowed ? 'block' : 'none';\n",
              "\n",
              "        async function convertToInteractive(key) {\n",
              "          const element = document.querySelector('#df-e990f425-c333-4532-b6de-ec1fdea5b20e');\n",
              "          const dataTable =\n",
              "            await google.colab.kernel.invokeFunction('convertToInteractive',\n",
              "                                                     [key], {});\n",
              "          if (!dataTable) return;\n",
              "\n",
              "          const docLinkHtml = 'Like what you see? Visit the ' +\n",
              "            '<a target=\"_blank\" href=https://colab.research.google.com/notebooks/data_table.ipynb>data table notebook</a>'\n",
              "            + ' to learn more about interactive tables.';\n",
              "          element.innerHTML = '';\n",
              "          dataTable['output_type'] = 'display_data';\n",
              "          await google.colab.output.renderOutput(dataTable, element);\n",
              "          const docLink = document.createElement('div');\n",
              "          docLink.innerHTML = docLinkHtml;\n",
              "          element.appendChild(docLink);\n",
              "        }\n",
              "      </script>\n",
              "    </div>\n",
              "  </div>\n",
              "  "
            ],
            "text/plain": [
              "                    slice  animal normal modified perapanel   uM  chunks\n",
              "0    slice1_151002_185204     212      0       26        89    3       1\n",
              "1    slice1_151008_165239     213  0 248   18 178        86    1       1\n",
              "2    slice1_151015_130152     214  0 204   20 174        82    1       1\n",
              "3    slice2_151015_165854     214  0 204   10 194        88    1       1\n",
              "4    slice1_151020_133348     215  0 256   69 196       130    1       1\n",
              "5    slice2_151020_185053     215  0 224   50 186       110    1       1\n",
              "6  session1_151106_154501     216  0 315   60 255   121 195  1 3       2\n",
              "7     human_151124_145847     218      0       20        80    1       2\n",
              "8     human_151124_172920     218      0       10        70    1       2\n",
              "9     human_151124_200111     218      0        5        55    1       2"
            ]
          },
          "metadata": {},
          "execution_count": 59
        }
      ]
    },
    {
      "cell_type": "code",
      "execution_count": 60,
      "metadata": {
        "colab": {
          "base_uri": "https://localhost:8080/"
        },
        "id": "TkjIdW_FuX8T",
        "outputId": "fae5765a-03f0-47a8-be84-e256bc26beb4"
      },
      "outputs": [
        {
          "output_type": "stream",
          "name": "stdout",
          "text": [
            "Found in folder 64 LFP channels\n"
          ]
        },
        {
          "output_type": "execute_result",
          "data": {
            "text/plain": [
              "64"
            ]
          },
          "metadata": {},
          "execution_count": 60
        }
      ],
      "source": [
        "# Load the data folder\n",
        "lfps = LFP(r'/content/drive/MyDrive/aHuman_data_Mark/HUMAN_214/slice1_151015_130152/downsampleLFP/')\n",
        "len(lfps.eeg_files)"
      ]
    },
    {
      "cell_type": "code",
      "source": [
        "slice1_151015_130152 = lfps.load_mne_channels(range(1))"
      ],
      "metadata": {
        "colab": {
          "base_uri": "https://localhost:8080/",
          "height": 153,
          "referenced_widgets": [
            "b4c67d039bbd42a89b1d7472186042f3",
            "42898aaeb11e4bb3956f0c79e8468924",
            "5fb27bf8f4894c3eb403f0c441435046",
            "c53460d125fa4dbf9e3f7c1f9ce7b7cb",
            "b7d9bd6fd50e4360900b2b22bd3eed98",
            "6540e5e60fed4339b3cd6a71ad67315c",
            "66c19e86fcd7470e8cf26464b790c905",
            "fd0bd415d2ad4830b697aa27164f11bd",
            "4d5f98310b54436b8bd187d19ecc4ffa",
            "38f74553422044c5a9b62e41e4d7778b",
            "6484d0aeb621414b8e79476fd6701bb3"
          ]
        },
        "id": "jLCMwpMWAiJ0",
        "outputId": "ebe70c0b-dec2-46f8-a6d0-c81e0838a6f6"
      },
      "execution_count": 61,
      "outputs": [
        {
          "output_type": "stream",
          "name": "stdout",
          "text": [
            "Reading channels ..\n"
          ]
        },
        {
          "output_type": "display_data",
          "data": {
            "application/vnd.jupyter.widget-view+json": {
              "model_id": "b4c67d039bbd42a89b1d7472186042f3",
              "version_minor": 0,
              "version_major": 2
            },
            "text/plain": [
              "  0%|          | 0/1 [00:00<?, ?it/s]"
            ]
          },
          "metadata": {}
        },
        {
          "output_type": "stream",
          "name": "stdout",
          "text": [
            "Creating mne EEG type\n",
            "Applying notch filter\n",
            "Bandpassing 2 - 100 Hz\n",
            "Memory use: 6.3Gb\n",
            "Done!\n"
          ]
        }
      ]
    },
    {
      "cell_type": "code",
      "source": [
        "print(f'Recorded for {(len(slice1_151015_130152.get_data(0)[0])/2500)/60} minutes')"
      ],
      "metadata": {
        "colab": {
          "base_uri": "https://localhost:8080/"
        },
        "id": "ajwMObWcI5sM",
        "outputId": "849df511-5a50-4979-ab00-de10ff6cf1de"
      },
      "execution_count": 62,
      "outputs": [
        {
          "output_type": "stream",
          "name": "stdout",
          "text": [
            "Recorded for 213.18864 minutes\n"
          ]
        }
      ]
    },
    {
      "cell_type": "code",
      "source": [
        "# LFPs.plot(start=1900)"
      ],
      "metadata": {
        "id": "Mzk_foYOj7-v"
      },
      "execution_count": 63,
      "outputs": []
    },
    {
      "cell_type": "markdown",
      "metadata": {
        "id": "QU4kzkN6bJb8"
      },
      "source": [
        "## RAT 213:\n",
        "\n",
        "### Separate the different treatment times\n",
        "**Times in minutes:**\n",
        "    \n",
        "    0 - normal ACSF\n",
        "    18 - Modified\n",
        "    86 - 1uM Perapanel\n",
        "    178 - modified\n",
        "    248 - normal\n",
        "\n",
        "\n"
      ]
    },
    {
      "cell_type": "markdown",
      "source": [
        "### RAT 214 \n",
        "\n",
        "\n",
        "**Slice 1**: \n",
        "\n",
        "slice1_151015_130152\n",
        "\n",
        "Times in minutes:\n",
        "\n",
        "    0 - normal ACSF\n",
        "    20 - Modified\n",
        "    82 - 1uM Perapanel\n",
        "    174 - modified\n",
        "    204 - normal\n",
        "\n",
        "**Slice 2**\n",
        "\n",
        "Times in minutes:\n",
        "\n",
        "    0 - normal ACSF\n",
        "    10 - Modified\n",
        "    88 - 1uM Perapanel\n",
        "    194 - modified\n",
        "    204 - normal"
      ],
      "metadata": {
        "id": "7iCjqKmtILdU"
      }
    },
    {
      "cell_type": "markdown",
      "source": [
        "## Plot treatments time"
      ],
      "metadata": {
        "id": "0RHGh_a4yDe7"
      }
    },
    {
      "cell_type": "code",
      "source": [
        "df = pd.read_csv('/content/drive/MyDrive/aHuman_data_Mark/treatment_times.csv')\n",
        "treatment_times = input_treatment_times(df, 'slice1_151015_130152')\n",
        "treatment_times"
      ],
      "metadata": {
        "colab": {
          "base_uri": "https://localhost:8080/"
        },
        "id": "tNeM4CcmdyEt",
        "outputId": "9e110bc3-f4f2-4179-e188-1047002779bf"
      },
      "execution_count": 64,
      "outputs": [
        {
          "output_type": "execute_result",
          "data": {
            "text/plain": [
              "([0, 20, 82, 174, 204],\n",
              " ['normal', 'modified', 'perapanel', 'modified', 'normal'])"
            ]
          },
          "metadata": {},
          "execution_count": 64
        }
      ]
    },
    {
      "cell_type": "code",
      "source": [
        "def plot_nice(data, treatments, slice_name = 'slice1_151015_130152'):\n",
        "    '''Adapted from Raphael Vallat blog\n",
        "    '''\n",
        "    colors = {\n",
        "            'normal':'green',\n",
        "            'modified':'red',\n",
        "            'perapanel':'blue'\n",
        "        }\n",
        "    fs = 2500\n",
        "    sns.set(font_scale=1.2)\n",
        "    # Define sampling frequency and time vector\n",
        "    time = np.arange(data.size) / fs\n",
        "    # return time\n",
        "    # Plot the signal\n",
        "    fig, ax = plt.subplots(1, 1, figsize=(20, 4))\n",
        "    plt.plot(time, data, lw=1.5, color='k')\n",
        "    treatments[0] = [x*fs*60 for x in treatments[0]]\n",
        "    treatments[0].append(time.size-1)\n",
        "    for i in range(len(treatment_times[1])):\n",
        "        plt.axvspan(time[treatments[0][i]], time[treatments[0][i+1]], \n",
        "                        label=treatments[1][i], color=colors[treatments[1][i]], \n",
        "                        alpha=0.1)\n",
        "    plt.xlabel('Time (seconds)')\n",
        "    plt.ylabel('Voltage')\n",
        "    plt.title(slice_name)\n",
        "    plt.xlim([time.min(), time.max()])\n",
        "    plt.legend(loc='upper right')\n",
        "    # plt.savefig(f'{slice_name}_treatments_ch0_no_notch.jpg')\n",
        "    sns.despine()"
      ],
      "metadata": {
        "id": "I4isydZxMa3m"
      },
      "execution_count": 65,
      "outputs": []
    },
    {
      "cell_type": "code",
      "source": [
        "# data = LFPs.get_data()\n",
        "fs = 2500\n",
        "for d in slice1_151015_130152.get_data():\n",
        "    plot_nice(d, list(treatment_times))"
      ],
      "metadata": {
        "colab": {
          "base_uri": "https://localhost:8080/",
          "height": 306
        },
        "id": "HYAavCuEOalv",
        "outputId": "dd3bd0bc-721a-4ba6-e373-77f524e53fcd"
      },
      "execution_count": 66,
      "outputs": [
        {
          "output_type": "display_data",
          "data": {
            "image/png": "[encoded data removed]",
            "text/plain": [
              "<Figure size 1440x288 with 1 Axes>"
            ]
          },
          "metadata": {}
        }
      ]
    },
    {
      "cell_type": "code",
      "source": [
        "zoom = [875,925]\n",
        "\n",
        "data = slice1_151015_130152.get_data()[0]\n",
        "# block = 0\n",
        "# t1 = treatment_times[0][block]*60*fs\n",
        "# t2 = treatment_times[0][block+1]*60*fs\n",
        "# data = data[t1:t2]\n",
        "data = data[zoom[0]*fs:zoom[1]*fs]\n",
        "time = np.arange(data.size) / fs\n",
        "time  = time + zoom[0]\n",
        "# Plot the signal\n",
        "fig, ax = plt.subplots(1, 1, figsize=(20, 4))\n",
        "plt.plot(time, data, lw=1.5, color='k')\n",
        "# plt.title(f'{treatment_times[1][block]}')\n",
        "plt.xlabel('Time (s)')\n",
        "plt.show()"
      ],
      "metadata": {
        "colab": {
          "base_uri": "https://localhost:8080/",
          "height": 289
        },
        "id": "-ytfjpLilUk_",
        "outputId": "ef40ccde-687d-4605-e582-35aa0bc93954"
      },
      "execution_count": 67,
      "outputs": [
        {
          "output_type": "display_data",
          "data": {
            "image/png": "[encoded data removed]",
            "text/plain": [
              "<Figure size 1440x288 with 1 Axes>"
            ]
          },
          "metadata": {}
        }
      ]
    },
    {
      "cell_type": "markdown",
      "source": [
        "## Calculate gama power in different treatments\n",
        "\n",
        "    Use windows (1-10) min\n",
        "    "
      ],
      "metadata": {
        "id": "JdAeRThWoG1f"
      }
    },
    {
      "cell_type": "code",
      "source": [
        "# Calculate FFT for the signal in windows of 1 minute\n",
        "ffts = calculate_fft(slice1_151015_130152.get_data()[0], window=1)\n",
        "ffts.mean(axis=0)\n",
        "sns.set(font_scale=1.2, style='white')\n",
        "max_freq = 1250\n",
        "freqs = np.linspace(0, 1, 4096) * 1250\n",
        "idx_delta = np.logical_and(freqs >= 20, freqs <= 80)\n",
        "plt.figure(figsize=(8,6))\n",
        "res_fft = 2*np.abs(ffts.mean(axis=0)[:4096])\n",
        "plt.plot(freqs,res_fft)\n",
        "plt.xlim(0,150)\n",
        "plt.ylim(0,0.02)\n",
        "idx = (freqs >=20.) & (freqs<=80)\n",
        "x = freqs[idx]\n",
        "y = res_fft[idx]\n",
        "plt.fill_between(freqs, res_fft, where=idx_delta, color='green', alpha=.4, label = \n",
        "                 f'gamma (20-80Hz)\\npeak: {x[np.where(y == y.max())][0]:.1f}Hz\\nArea: {np.trapz(x=x, y=y):.1f}')\n",
        "plt.xlabel('Frequency (Hz)')\n",
        "plt.ylabel('abs(f)')\n",
        "plt.legend()\n",
        "# plt.title('power using notch')\n",
        "# plt.savefig('slice1_151015_130152_power_with_notch.jpg')\n",
        "plt.show()\n",
        "\n",
        "\n",
        "# print(f'Area under the curve in gamma: {np.trapz(x=x, y = y):.2f},  max frequency {x[np.where(y == y.max())][0]:.2f}Hz')"
      ],
      "metadata": {
        "colab": {
          "base_uri": "https://localhost:8080/",
          "height": 403
        },
        "id": "YXsiVsGEvwKt",
        "outputId": "85935ad5-45e6-456e-bf05-2229ac05cbe7"
      },
      "execution_count": 73,
      "outputs": [
        {
          "output_type": "display_data",
          "data": {
            "image/png": "[encoded data removed]",
            "text/plain": [
              "<Figure size 576x432 with 1 Axes>"
            ]
          },
          "metadata": {}
        }
      ]
    },
    {
      "cell_type": "code",
      "source": [
        ""
      ],
      "metadata": {
        "id": "JUPVKNhDjc_A"
      },
      "execution_count": 16,
      "outputs": []
    }
  ],
  "metadata": {
    "colab": {
      "collapsed_sections": [],
      "machine_shape": "hm",
      "name": "EEG_analysis.ipynb",
      "provenance": [],
      "mount_file_id": "1JYsBZvAXxRkomhfuUUXKHgtyjBw0SDRk",
      "authorship_tag": "ABX9TyNjueXKqzpVCmUMwDl71R0X",
      "include_colab_link": true
    },
    "kernelspec": {
      "display_name": "Python 3",
      "name": "python3"
    },
    "language_info": {
      "name": "python"
    },
    "widgets": {
      "application/vnd.jupyter.widget-state+json": {
        "b4c67d039bbd42a89b1d7472186042f3": {
          "model_module": "@jupyter-widgets/controls",
          "model_name": "HBoxModel",
          "model_module_version": "1.5.0",
          "state": {
            "_view_name": "HBoxView",
            "_dom_classes": [],
            "_model_name": "HBoxModel",
            "_view_module": "@jupyter-widgets/controls",
            "_model_module_version": "1.5.0",
            "_view_count": null,
            "_view_module_version": "1.5.0",
            "box_style": "",
            "layout": "IPY_MODEL_42898aaeb11e4bb3956f0c79e8468924",
            "_model_module": "@jupyter-widgets/controls",
            "children": [
              "IPY_MODEL_5fb27bf8f4894c3eb403f0c441435046",
              "IPY_MODEL_c53460d125fa4dbf9e3f7c1f9ce7b7cb",
              "IPY_MODEL_b7d9bd6fd50e4360900b2b22bd3eed98"
            ]
          }
        },
        "42898aaeb11e4bb3956f0c79e8468924": {
          "model_module": "@jupyter-widgets/base",
          "model_name": "LayoutModel",
          "model_module_version": "1.2.0",
          "state": {
            "_view_name": "LayoutView",
            "grid_template_rows": null,
            "right": null,
            "justify_content": null,
            "_view_module": "@jupyter-widgets/base",
            "overflow": null,
            "_model_module_version": "1.2.0",
            "_view_count": null,
            "flex_flow": null,
            "width": null,
            "min_width": null,
            "border": null,
            "align_items": null,
            "bottom": null,
            "_model_module": "@jupyter-widgets/base",
            "top": null,
            "grid_column": null,
            "overflow_y": null,
            "overflow_x": null,
            "grid_auto_flow": null,
            "grid_area": null,
            "grid_template_columns": null,
            "flex": null,
            "_model_name": "LayoutModel",
            "justify_items": null,
            "grid_row": null,
            "max_height": null,
            "align_content": null,
            "visibility": null,
            "align_self": null,
            "height": null,
            "min_height": null,
            "padding": null,
            "grid_auto_rows": null,
            "grid_gap": null,
            "max_width": null,
            "order": null,
            "_view_module_version": "1.2.0",
            "grid_template_areas": null,
            "object_position": null,
            "object_fit": null,
            "grid_auto_columns": null,
            "margin": null,
            "display": null,
            "left": null
          }
        },
        "5fb27bf8f4894c3eb403f0c441435046": {
          "model_module": "@jupyter-widgets/controls",
          "model_name": "HTMLModel",
          "model_module_version": "1.5.0",
          "state": {
            "_view_name": "HTMLView",
            "style": "IPY_MODEL_6540e5e60fed4339b3cd6a71ad67315c",
            "_dom_classes": [],
            "description": "",
            "_model_name": "HTMLModel",
            "placeholder": "​",
            "_view_module": "@jupyter-widgets/controls",
            "_model_module_version": "1.5.0",
            "value": "100%",
            "_view_count": null,
            "_view_module_version": "1.5.0",
            "description_tooltip": null,
            "_model_module": "@jupyter-widgets/controls",
            "layout": "IPY_MODEL_66c19e86fcd7470e8cf26464b790c905"
          }
        },
        "c53460d125fa4dbf9e3f7c1f9ce7b7cb": {
          "model_module": "@jupyter-widgets/controls",
          "model_name": "FloatProgressModel",
          "model_module_version": "1.5.0",
          "state": {
            "_view_name": "ProgressView",
            "style": "IPY_MODEL_fd0bd415d2ad4830b697aa27164f11bd",
            "_dom_classes": [],
            "description": "",
            "_model_name": "FloatProgressModel",
            "bar_style": "success",
            "max": 1,
            "_view_module": "@jupyter-widgets/controls",
            "_model_module_version": "1.5.0",
            "value": 1,
            "_view_count": null,
            "_view_module_version": "1.5.0",
            "orientation": "horizontal",
            "min": 0,
            "description_tooltip": null,
            "_model_module": "@jupyter-widgets/controls",
            "layout": "IPY_MODEL_4d5f98310b54436b8bd187d19ecc4ffa"
          }
        },
        "b7d9bd6fd50e4360900b2b22bd3eed98": {
          "model_module": "@jupyter-widgets/controls",
          "model_name": "HTMLModel",
          "model_module_version": "1.5.0",
          "state": {
            "_view_name": "HTMLView",
            "style": "IPY_MODEL_38f74553422044c5a9b62e41e4d7778b",
            "_dom_classes": [],
            "description": "",
            "_model_name": "HTMLModel",
            "placeholder": "​",
            "_view_module": "@jupyter-widgets/controls",
            "_model_module_version": "1.5.0",
            "value": " 1/1 [00:00&lt;00:00,  5.91it/s]",
            "_view_count": null,
            "_view_module_version": "1.5.0",
            "description_tooltip": null,
            "_model_module": "@jupyter-widgets/controls",
            "layout": "IPY_MODEL_6484d0aeb621414b8e79476fd6701bb3"
          }
        },
        "6540e5e60fed4339b3cd6a71ad67315c": {
          "model_module": "@jupyter-widgets/controls",
          "model_name": "DescriptionStyleModel",
          "model_module_version": "1.5.0",
          "state": {
            "_view_name": "StyleView",
            "_model_name": "DescriptionStyleModel",
            "description_width": "",
            "_view_module": "@jupyter-widgets/base",
            "_model_module_version": "1.5.0",
            "_view_count": null,
            "_view_module_version": "1.2.0",
            "_model_module": "@jupyter-widgets/controls"
          }
        },
        "66c19e86fcd7470e8cf26464b790c905": {
          "model_module": "@jupyter-widgets/base",
          "model_name": "LayoutModel",
          "model_module_version": "1.2.0",
          "state": {
            "_view_name": "LayoutView",
            "grid_template_rows": null,
            "right": null,
            "justify_content": null,
            "_view_module": "@jupyter-widgets/base",
            "overflow": null,
            "_model_module_version": "1.2.0",
            "_view_count": null,
            "flex_flow": null,
            "width": null,
            "min_width": null,
            "border": null,
            "align_items": null,
            "bottom": null,
            "_model_module": "@jupyter-widgets/base",
            "top": null,
            "grid_column": null,
            "overflow_y": null,
            "overflow_x": null,
            "grid_auto_flow": null,
            "grid_area": null,
            "grid_template_columns": null,
            "flex": null,
            "_model_name": "LayoutModel",
            "justify_items": null,
            "grid_row": null,
            "max_height": null,
            "align_content": null,
            "visibility": null,
            "align_self": null,
            "height": null,
            "min_height": null,
            "padding": null,
            "grid_auto_rows": null,
            "grid_gap": null,
            "max_width": null,
            "order": null,
            "_view_module_version": "1.2.0",
            "grid_template_areas": null,
            "object_position": null,
            "object_fit": null,
            "grid_auto_columns": null,
            "margin": null,
            "display": null,
            "left": null
          }
        },
        "fd0bd415d2ad4830b697aa27164f11bd": {
          "model_module": "@jupyter-widgets/controls",
          "model_name": "ProgressStyleModel",
          "model_module_version": "1.5.0",
          "state": {
            "_view_name": "StyleView",
            "_model_name": "ProgressStyleModel",
            "description_width": "",
            "_view_module": "@jupyter-widgets/base",
            "_model_module_version": "1.5.0",
            "_view_count": null,
            "_view_module_version": "1.2.0",
            "bar_color": null,
            "_model_module": "@jupyter-widgets/controls"
          }
        },
        "4d5f98310b54436b8bd187d19ecc4ffa": {
          "model_module": "@jupyter-widgets/base",
          "model_name": "LayoutModel",
          "model_module_version": "1.2.0",
          "state": {
            "_view_name": "LayoutView",
            "grid_template_rows": null,
            "right": null,
            "justify_content": null,
            "_view_module": "@jupyter-widgets/base",
            "overflow": null,
            "_model_module_version": "1.2.0",
            "_view_count": null,
            "flex_flow": null,
            "width": null,
            "min_width": null,
            "border": null,
            "align_items": null,
            "bottom": null,
            "_model_module": "@jupyter-widgets/base",
            "top": null,
            "grid_column": null,
            "overflow_y": null,
            "overflow_x": null,
            "grid_auto_flow": null,
            "grid_area": null,
            "grid_template_columns": null,
            "flex": null,
            "_model_name": "LayoutModel",
            "justify_items": null,
            "grid_row": null,
            "max_height": null,
            "align_content": null,
            "visibility": null,
            "align_self": null,
            "height": null,
            "min_height": null,
            "padding": null,
            "grid_auto_rows": null,
            "grid_gap": null,
            "max_width": null,
            "order": null,
            "_view_module_version": "1.2.0",
            "grid_template_areas": null,
            "object_position": null,
            "object_fit": null,
            "grid_auto_columns": null,
            "margin": null,
            "display": null,
            "left": null
          }
        },
        "38f74553422044c5a9b62e41e4d7778b": {
          "model_module": "@jupyter-widgets/controls",
          "model_name": "DescriptionStyleModel",
          "model_module_version": "1.5.0",
          "state": {
            "_view_name": "StyleView",
            "_model_name": "DescriptionStyleModel",
            "description_width": "",
            "_view_module": "@jupyter-widgets/base",
            "_model_module_version": "1.5.0",
            "_view_count": null,
            "_view_module_version": "1.2.0",
            "_model_module": "@jupyter-widgets/controls"
          }
        },
        "6484d0aeb621414b8e79476fd6701bb3": {
          "model_module": "@jupyter-widgets/base",
          "model_name": "LayoutModel",
          "model_module_version": "1.2.0",
          "state": {
            "_view_name": "LayoutView",
            "grid_template_rows": null,
            "right": null,
            "justify_content": null,
            "_view_module": "@jupyter-widgets/base",
            "overflow": null,
            "_model_module_version": "1.2.0",
            "_view_count": null,
            "flex_flow": null,
            "width": null,
            "min_width": null,
            "border": null,
            "align_items": null,
            "bottom": null,
            "_model_module": "@jupyter-widgets/base",
            "top": null,
            "grid_column": null,
            "overflow_y": null,
            "overflow_x": null,
            "grid_auto_flow": null,
            "grid_area": null,
            "grid_template_columns": null,
            "flex": null,
            "_model_name": "LayoutModel",
            "justify_items": null,
            "grid_row": null,
            "max_height": null,
            "align_content": null,
            "visibility": null,
            "align_self": null,
            "height": null,
            "min_height": null,
            "padding": null,
            "grid_auto_rows": null,
            "grid_gap": null,
            "max_width": null,
            "order": null,
            "_view_module_version": "1.2.0",
            "grid_template_areas": null,
            "object_position": null,
            "object_fit": null,
            "grid_auto_columns": null,
            "margin": null,
            "display": null,
            "left": null
          }
        }
      }
    }
  },
  "nbformat": 4,
  "nbformat_minor": 0
}