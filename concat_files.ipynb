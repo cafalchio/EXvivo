{
  "cells": [
    {
      "cell_type": "markdown",
      "metadata": {
        "id": "view-in-github",
        "colab_type": "text"
      },
      "source": [
        "<a href=\"https://colab.research.google.com/github/cafalchio/EXvivo/blob/main/concat_files.ipynb\" target=\"_parent\"><img src=\"https://colab.research.google.com/assets/colab-badge.svg\" alt=\"Open In Colab\"/></a>"
      ]
    },
    {
      "cell_type": "markdown",
      "id": "506d67cb-35f8-4da4-bec5-49e0b3b92da4",
      "metadata": {
        "id": "506d67cb-35f8-4da4-bec5-49e0b3b92da4"
      },
      "source": [
        "## Concatenate Intan recording files saved in different folders"
      ]
    },
    {
      "cell_type": "code",
      "execution_count": null,
      "id": "c540d5f7-74a5-4cc2-82a1-b1070ae32141",
      "metadata": {
        "id": "c540d5f7-74a5-4cc2-82a1-b1070ae32141"
      },
      "outputs": [],
      "source": [
        "from tqdm.notebook import tqdm\n",
        "import numpy as np\n",
        "from scipy import signal\n",
        "import os\n",
        "from glob import glob\n",
        "import mmap\n",
        "import gc"
      ]
    },
    {
      "cell_type": "code",
      "execution_count": null,
      "id": "42ee05e6-0f6f-4054-8bd4-6f69c2c98cc4",
      "metadata": {
        "id": "42ee05e6-0f6f-4054-8bd4-6f69c2c98cc4"
      },
      "outputs": [],
      "source": [
        "# Create file names\n",
        "ampA_names = [f'amp-A-00{i}.dat' for i in range(0,10)] + [f'amp-A-0{i}.dat' for i in range(10,64)]\n",
        "ampB_names = [f'amp-B-00{i}.dat' for i in range(0,10)] + [f'amp-B-0{i}.dat' for i in range(10,64)]\n",
        "ampC_names = [f'amp-C-00{i}.dat' for i in range(0,10)] + [f'amp-C-0{i}.dat' for i in range(10,64)]\n",
        "ampD_names = [f'amp-D-00{i}.dat' for i in range(0,10)] + [f'amp-D-0{i}.dat' for i in range(10,64)]\n",
        "time_name = ['time.dat']\n",
        "auxA_names = [f'aux-A-AUX{i}.dat' for i in range(0,4)]\n",
        "auxC_names = [f'aux-C-AUX{i}.dat' for i in range(0,4)]"
      ]
    },
    {
      "cell_type": "code",
      "execution_count": null,
      "id": "035251b8-f3c8-4e92-850a-5df79be805c4",
      "metadata": {
        "id": "035251b8-f3c8-4e92-850a-5df79be805c4"
      },
      "outputs": [],
      "source": [
        "def connect_files(path, new_path, amp_names):\n",
        "    '''Function that connects part of intan files in different subfolders into a new folder'''\n",
        "    \n",
        "    for filename in tqdm(amp_names):\n",
        "        try:\n",
        "            for i, path in enumerate(sorted(glob(data_path+'*'))):\n",
        "                part_name = path + \"/\" + filename\n",
        "                if i == 0: \n",
        "                    temp_name = new_path + filename\n",
        "                temp = np.fromfile(part_name, dtype = np.int16)\n",
        "                if i == 0:\n",
        "                    with open(temp_name, 'wb') as fb:\n",
        "                        fb.write(temp.astype('int16'))\n",
        "                else:\n",
        "                     with open(temp_name, 'ab+') as fb:\n",
        "                        fb.write(temp.astype('int16'))\n",
        "        except:\n",
        "            print(f'Failed on {part_name}')\n",
        "            continue\n",
        "    print('\\nDone!')"
      ]
    },
    {
      "cell_type": "markdown",
      "id": "bdea743c-12cb-4e18-a250-e92abc6af9bc",
      "metadata": {
        "id": "bdea743c-12cb-4e18-a250-e92abc6af9bc"
      },
      "source": [
        "## Need to create the new path manually before running the code before"
      ]
    },
    {
      "cell_type": "code",
      "execution_count": null,
      "id": "c2ed8412-43bb-4a96-9b23-b28f46f44013",
      "metadata": {
        "id": "c2ed8412-43bb-4a96-9b23-b28f46f44013"
      },
      "outputs": [],
      "source": [
        "# # Human 218\n",
        "# data_path = r\"/mnt/g/HUMAN/HUMAN 218/\"\n",
        "# new_path = r\"/mnt/g/HUMAN/HUMAN 218/human_151124_124406_n/\"\n",
        "# connect_files(data_path, new_path, time_name)\n",
        "# connect_files(data_path, new_path, ampA_names)\n",
        "# connect_files(data_path, new_path, ampC_names)\n",
        "# # human 219\n",
        "# data_path = \"/mnt/g/HUMAN/HUMAN 219/\"\n",
        "# new_path = \"/mnt/g/HUMAN/HUMAN 219/human_151126_135612_n/\"\n",
        "# connect_files(data_path, new_path, time_name)\n",
        "# connect_files(data_path, new_path, ampA_names)\n",
        "# connect_files(data_path, new_path, ampC_names)\n",
        "# # human 220\n",
        "# data_path = r\"/mnt/g/HUMAN/HUMAN 220/\"\n",
        "# new_path = r\"/mnt/g/HUMAN/HUMAN 220/human_151202_164610_n/\"\n",
        "# connect_files(data_path, new_path, time_name)\n",
        "# connect_files(data_path, new_path, ampA_names)\n",
        "# connect_files(data_path, new_path, ampD_names)\n",
        "# # human 227\n",
        "# data_path = r\"/mnt/g/HUMAN/HUMAN 227/\"\n",
        "# new_path = r\"/mnt/g/HUMAN/HUMAN 227/HUMAN227_160301_160429_n/\"\n",
        "# connect_files(data_path, new_path, time_name)\n",
        "# connect_files(data_path, new_path, ampD_names)\n",
        "# # human 229\n",
        "# data_path = r\"/mnt/g/HUMAN/HUMAN 230/\"\n",
        "# new_path = r\"/mnt/g/HUMAN/HUMAN 230/slice_1_160524_133401_n/\"\n",
        "# connect_files(data_path, new_path, time_name)\n",
        "# connect_files(data_path, new_path, ampC_names)\n",
        "# connect_files(data_path, new_path, ampD_names)"
      ]
    },
    {
      "cell_type": "code",
      "execution_count": null,
      "id": "780334be-7032-4580-9a3a-85c4bc430896",
      "metadata": {
        "id": "780334be-7032-4580-9a3a-85c4bc430896",
        "outputId": "39901ab0-b444-4b09-b731-61bf1951a215",
        "colab": {
          "referenced_widgets": [
            "2cc80100568e470a92134cadb594067a",
            "e13e2d2e475a42348b8a5543106367be",
            "3792d58cb5aa4d45804631a43f55f3f4"
          ]
        }
      },
      "outputs": [
        {
          "data": {
            "application/vnd.jupyter.widget-view+json": {
              "model_id": "2cc80100568e470a92134cadb594067a",
              "version_major": 2,
              "version_minor": 0
            },
            "text/plain": [
              "  0%|          | 0/1 [00:00<?, ?it/s]"
            ]
          },
          "metadata": {},
          "output_type": "display_data"
        },
        {
          "name": "stdout",
          "output_type": "stream",
          "text": [
            "\n",
            "Done!\n"
          ]
        },
        {
          "data": {
            "application/vnd.jupyter.widget-view+json": {
              "model_id": "e13e2d2e475a42348b8a5543106367be",
              "version_major": 2,
              "version_minor": 0
            },
            "text/plain": [
              "  0%|          | 0/64 [00:00<?, ?it/s]"
            ]
          },
          "metadata": {},
          "output_type": "display_data"
        },
        {
          "name": "stdout",
          "output_type": "stream",
          "text": [
            "Failed on /mnt/g/HUMAN/HUMAN 219/human_151126_135612/amp-A-017.dat\n",
            "Failed on /mnt/g/HUMAN/HUMAN 219/human_151126_135612/amp-A-047.dat\n",
            "\n",
            "Done!\n"
          ]
        },
        {
          "data": {
            "application/vnd.jupyter.widget-view+json": {
              "model_id": "3792d58cb5aa4d45804631a43f55f3f4",
              "version_major": 2,
              "version_minor": 0
            },
            "text/plain": [
              "  0%|          | 0/64 [00:00<?, ?it/s]"
            ]
          },
          "metadata": {},
          "output_type": "display_data"
        },
        {
          "name": "stdout",
          "output_type": "stream",
          "text": [
            "Failed on /mnt/g/HUMAN/HUMAN 219/human_151126_135612/amp-C-011.dat\n",
            "Failed on /mnt/g/HUMAN/HUMAN 219/human_151126_135612/amp-C-013.dat\n",
            "Failed on /mnt/g/HUMAN/HUMAN 219/human_151126_135612/amp-C-015.dat\n",
            "Failed on /mnt/g/HUMAN/HUMAN 219/human_151126_135612/amp-C-017.dat\n",
            "Failed on /mnt/g/HUMAN/HUMAN 219/human_151126_135612/amp-C-019.dat\n",
            "Failed on /mnt/g/HUMAN/HUMAN 219/human_151126_135612/amp-C-020.dat\n",
            "Failed on /mnt/g/HUMAN/HUMAN 219/human_151126_135612/amp-C-021.dat\n",
            "Failed on /mnt/g/HUMAN/HUMAN 219/human_151126_135612/amp-C-023.dat\n",
            "Failed on /mnt/g/HUMAN/HUMAN 219/human_151126_135612/amp-C-024.dat\n",
            "Failed on /mnt/g/HUMAN/HUMAN 219/human_151126_135612/amp-C-025.dat\n",
            "Failed on /mnt/g/HUMAN/HUMAN 219/human_151126_135612/amp-C-026.dat\n",
            "Failed on /mnt/g/HUMAN/HUMAN 219/human_151126_135612/amp-C-027.dat\n",
            "Failed on /mnt/g/HUMAN/HUMAN 219/human_151126_135612/amp-C-028.dat\n",
            "Failed on /mnt/g/HUMAN/HUMAN 219/human_151126_135612/amp-C-029.dat\n",
            "Failed on /mnt/g/HUMAN/HUMAN 219/human_151126_135612/amp-C-030.dat\n",
            "Failed on /mnt/g/HUMAN/HUMAN 219/human_151126_135612/amp-C-031.dat\n",
            "\n",
            "Done!\n"
          ]
        }
      ],
      "source": [
        "# human 219\n",
        "data_path = \"/mnt/g/HUMAN/HUMAN 219/\"\n",
        "new_path = \"/mnt/g/HUMAN/HUMAN 219/human_151126_135612_n/\"\n",
        "connect_files(data_path, new_path, time_name)\n",
        "connect_files(data_path, new_path, ampA_names)\n",
        "connect_files(data_path, new_path, ampC_names)"
      ]
    },
    {
      "cell_type": "code",
      "execution_count": null,
      "id": "41c6144b-c9e3-4316-8a08-d4a481169be6",
      "metadata": {
        "id": "41c6144b-c9e3-4316-8a08-d4a481169be6",
        "outputId": "23e0d7f5-ce08-457f-d3ba-483263699f7c",
        "colab": {
          "referenced_widgets": [
            "496d694b34614a259c18e36f4e1e76b2",
            "4f93ccd56bba40af910614254ac72b8c",
            "e4a6b98824174a9394550476d7328b3a"
          ]
        }
      },
      "outputs": [
        {
          "data": {
            "application/vnd.jupyter.widget-view+json": {
              "model_id": "496d694b34614a259c18e36f4e1e76b2",
              "version_major": 2,
              "version_minor": 0
            },
            "text/plain": [
              "  0%|          | 0/1 [00:00<?, ?it/s]"
            ]
          },
          "metadata": {},
          "output_type": "display_data"
        },
        {
          "name": "stdout",
          "output_type": "stream",
          "text": [
            "\n",
            "Done!\n"
          ]
        },
        {
          "data": {
            "application/vnd.jupyter.widget-view+json": {
              "model_id": "4f93ccd56bba40af910614254ac72b8c",
              "version_major": 2,
              "version_minor": 0
            },
            "text/plain": [
              "  0%|          | 0/64 [00:00<?, ?it/s]"
            ]
          },
          "metadata": {},
          "output_type": "display_data"
        },
        {
          "name": "stdout",
          "output_type": "stream",
          "text": [
            "Failed on /mnt/g/HUMAN/HUMAN 220/human_151202_164610/amp-A-000.dat\n",
            "Failed on /mnt/g/HUMAN/HUMAN 220/human_151202_164610/amp-A-001.dat\n",
            "Failed on /mnt/g/HUMAN/HUMAN 220/human_151202_164610/amp-A-002.dat\n",
            "Failed on /mnt/g/HUMAN/HUMAN 220/human_151202_164610/amp-A-003.dat\n",
            "Failed on /mnt/g/HUMAN/HUMAN 220/human_151202_164610/amp-A-004.dat\n",
            "Failed on /mnt/g/HUMAN/HUMAN 220/human_151202_164610/amp-A-005.dat\n",
            "Failed on /mnt/g/HUMAN/HUMAN 220/human_151202_164610/amp-A-006.dat\n",
            "Failed on /mnt/g/HUMAN/HUMAN 220/human_151202_164610/amp-A-007.dat\n",
            "Failed on /mnt/g/HUMAN/HUMAN 220/human_151202_164610/amp-A-008.dat\n",
            "Failed on /mnt/g/HUMAN/HUMAN 220/human_151202_164610/amp-A-009.dat\n",
            "Failed on /mnt/g/HUMAN/HUMAN 220/human_151202_164610/amp-A-010.dat\n",
            "Failed on /mnt/g/HUMAN/HUMAN 220/human_151202_164610/amp-A-011.dat\n",
            "Failed on /mnt/g/HUMAN/HUMAN 220/human_151202_164610/amp-A-012.dat\n",
            "Failed on /mnt/g/HUMAN/HUMAN 220/human_151202_164610/amp-A-013.dat\n",
            "Failed on /mnt/g/HUMAN/HUMAN 220/human_151202_164610/amp-A-014.dat\n",
            "Failed on /mnt/g/HUMAN/HUMAN 220/human_151202_164610/amp-A-015.dat\n",
            "Failed on /mnt/g/HUMAN/HUMAN 220/human_151202_164610/amp-A-016.dat\n",
            "Failed on /mnt/g/HUMAN/HUMAN 220/human_151202_164610/amp-A-017.dat\n",
            "Failed on /mnt/g/HUMAN/HUMAN 220/human_151202_164610/amp-A-018.dat\n",
            "Failed on /mnt/g/HUMAN/HUMAN 220/human_151202_164610/amp-A-019.dat\n",
            "Failed on /mnt/g/HUMAN/HUMAN 220/human_151202_164610/amp-A-020.dat\n",
            "Failed on /mnt/g/HUMAN/HUMAN 220/human_151202_164610/amp-A-021.dat\n",
            "Failed on /mnt/g/HUMAN/HUMAN 220/human_151202_164610/amp-A-022.dat\n",
            "Failed on /mnt/g/HUMAN/HUMAN 220/human_151202_164610/amp-A-023.dat\n",
            "Failed on /mnt/g/HUMAN/HUMAN 220/human_151202_164610/amp-A-024.dat\n",
            "Failed on /mnt/g/HUMAN/HUMAN 220/human_151202_164610/amp-A-025.dat\n",
            "Failed on /mnt/g/HUMAN/HUMAN 220/human_151202_164610/amp-A-026.dat\n",
            "Failed on /mnt/g/HUMAN/HUMAN 220/human_151202_164610/amp-A-027.dat\n",
            "Failed on /mnt/g/HUMAN/HUMAN 220/human_151202_164610/amp-A-028.dat\n",
            "Failed on /mnt/g/HUMAN/HUMAN 220/human_151202_164610/amp-A-029.dat\n",
            "Failed on /mnt/g/HUMAN/HUMAN 220/human_151202_164610/amp-A-030.dat\n",
            "Failed on /mnt/g/HUMAN/HUMAN 220/human_151202_164610/amp-A-031.dat\n",
            "Failed on /mnt/g/HUMAN/HUMAN 220/human_151202_164610/amp-A-032.dat\n",
            "Failed on /mnt/g/HUMAN/HUMAN 220/human_151202_164610/amp-A-033.dat\n",
            "Failed on /mnt/g/HUMAN/HUMAN 220/human_151202_164610/amp-A-034.dat\n",
            "Failed on /mnt/g/HUMAN/HUMAN 220/human_151202_164610/amp-A-035.dat\n",
            "Failed on /mnt/g/HUMAN/HUMAN 220/human_151202_164610/amp-A-036.dat\n",
            "Failed on /mnt/g/HUMAN/HUMAN 220/human_151202_164610/amp-A-037.dat\n",
            "Failed on /mnt/g/HUMAN/HUMAN 220/human_151202_164610/amp-A-038.dat\n",
            "Failed on /mnt/g/HUMAN/HUMAN 220/human_151202_164610/amp-A-039.dat\n",
            "Failed on /mnt/g/HUMAN/HUMAN 220/human_151202_164610/amp-A-040.dat\n",
            "Failed on /mnt/g/HUMAN/HUMAN 220/human_151202_164610/amp-A-041.dat\n",
            "Failed on /mnt/g/HUMAN/HUMAN 220/human_151202_164610/amp-A-042.dat\n",
            "Failed on /mnt/g/HUMAN/HUMAN 220/human_151202_164610/amp-A-043.dat\n",
            "Failed on /mnt/g/HUMAN/HUMAN 220/human_151202_164610/amp-A-044.dat\n",
            "Failed on /mnt/g/HUMAN/HUMAN 220/human_151202_164610/amp-A-045.dat\n",
            "Failed on /mnt/g/HUMAN/HUMAN 220/human_151202_164610/amp-A-046.dat\n",
            "Failed on /mnt/g/HUMAN/HUMAN 220/human_151202_164610/amp-A-047.dat\n",
            "Failed on /mnt/g/HUMAN/HUMAN 220/human_151202_164610/amp-A-048.dat\n",
            "Failed on /mnt/g/HUMAN/HUMAN 220/human_151202_164610/amp-A-049.dat\n",
            "Failed on /mnt/g/HUMAN/HUMAN 220/human_151202_164610/amp-A-050.dat\n",
            "Failed on /mnt/g/HUMAN/HUMAN 220/human_151202_164610/amp-A-051.dat\n",
            "Failed on /mnt/g/HUMAN/HUMAN 220/human_151202_164610/amp-A-052.dat\n",
            "Failed on /mnt/g/HUMAN/HUMAN 220/human_151202_164610/amp-A-053.dat\n",
            "Failed on /mnt/g/HUMAN/HUMAN 220/human_151202_164610/amp-A-054.dat\n",
            "Failed on /mnt/g/HUMAN/HUMAN 220/human_151202_164610/amp-A-055.dat\n",
            "Failed on /mnt/g/HUMAN/HUMAN 220/human_151202_164610/amp-A-056.dat\n",
            "Failed on /mnt/g/HUMAN/HUMAN 220/human_151202_164610/amp-A-057.dat\n",
            "Failed on /mnt/g/HUMAN/HUMAN 220/human_151202_164610/amp-A-058.dat\n",
            "Failed on /mnt/g/HUMAN/HUMAN 220/human_151202_164610/amp-A-059.dat\n",
            "Failed on /mnt/g/HUMAN/HUMAN 220/human_151202_164610/amp-A-060.dat\n",
            "Failed on /mnt/g/HUMAN/HUMAN 220/human_151202_164610/amp-A-061.dat\n",
            "Failed on /mnt/g/HUMAN/HUMAN 220/human_151202_164610/amp-A-062.dat\n",
            "Failed on /mnt/g/HUMAN/HUMAN 220/human_151202_164610/amp-A-063.dat\n",
            "\n",
            "Done!\n"
          ]
        },
        {
          "data": {
            "application/vnd.jupyter.widget-view+json": {
              "model_id": "e4a6b98824174a9394550476d7328b3a",
              "version_major": 2,
              "version_minor": 0
            },
            "text/plain": [
              "  0%|          | 0/64 [00:00<?, ?it/s]"
            ]
          },
          "metadata": {},
          "output_type": "display_data"
        },
        {
          "name": "stdout",
          "output_type": "stream",
          "text": [
            "Failed on /mnt/g/HUMAN/HUMAN 220/human_151202_164610/amp-D-047.dat\n",
            "\n",
            "Done!\n"
          ]
        }
      ],
      "source": [
        "# human 220\n",
        "data_path = r\"/mnt/g/HUMAN/HUMAN 220/\"\n",
        "new_path = r\"/mnt/g/HUMAN/HUMAN 220/human_151202_164610_n/\"\n",
        "connect_files(data_path, new_path, time_name)\n",
        "connect_files(data_path, new_path, ampA_names)\n",
        "connect_files(data_path, new_path, ampD_names)"
      ]
    },
    {
      "cell_type": "code",
      "execution_count": null,
      "id": "5e31ea66-2625-4b9f-b378-2e04860ea400",
      "metadata": {
        "id": "5e31ea66-2625-4b9f-b378-2e04860ea400",
        "outputId": "c7b57ad3-9209-40f3-eaac-3f1dc494a74b",
        "colab": {
          "referenced_widgets": [
            "609ea3f6393d4320ab9c9ae7d0e08332",
            "1671b697983440b3b5e2bce77e767c5b"
          ]
        }
      },
      "outputs": [
        {
          "data": {
            "application/vnd.jupyter.widget-view+json": {
              "model_id": "609ea3f6393d4320ab9c9ae7d0e08332",
              "version_major": 2,
              "version_minor": 0
            },
            "text/plain": [
              "  0%|          | 0/1 [00:00<?, ?it/s]"
            ]
          },
          "metadata": {},
          "output_type": "display_data"
        },
        {
          "name": "stdout",
          "output_type": "stream",
          "text": [
            "\n",
            "Done!\n"
          ]
        },
        {
          "data": {
            "application/vnd.jupyter.widget-view+json": {
              "model_id": "1671b697983440b3b5e2bce77e767c5b",
              "version_major": 2,
              "version_minor": 0
            },
            "text/plain": [
              "  0%|          | 0/64 [00:00<?, ?it/s]"
            ]
          },
          "metadata": {},
          "output_type": "display_data"
        },
        {
          "name": "stdout",
          "output_type": "stream",
          "text": [
            "\n",
            "Done!\n"
          ]
        }
      ],
      "source": [
        "# human 227\n",
        "data_path = r\"/mnt/g/HUMAN/HUMAN 227/\"\n",
        "new_path = r\"/mnt/g/HUMAN/HUMAN 227/HUMAN227_160301_160429_n/\"\n",
        "connect_files(data_path, new_path, time_name)\n",
        "connect_files(data_path, new_path, ampD_names)"
      ]
    },
    {
      "cell_type": "code",
      "execution_count": null,
      "id": "e0306f73-b65b-4ed0-af3a-711d3c37fe4e",
      "metadata": {
        "id": "e0306f73-b65b-4ed0-af3a-711d3c37fe4e",
        "outputId": "ec8507c9-4a0d-459e-bc92-d19a34f026e6",
        "colab": {
          "referenced_widgets": [
            "894c8740fc1f4319bf77831b75a083f6",
            "606d549bbf68452994f1e0c6472192bf",
            "9f32a52ac6634533bdf75869c2ca8553"
          ]
        }
      },
      "outputs": [
        {
          "data": {
            "application/vnd.jupyter.widget-view+json": {
              "model_id": "894c8740fc1f4319bf77831b75a083f6",
              "version_major": 2,
              "version_minor": 0
            },
            "text/plain": [
              "  0%|          | 0/1 [00:00<?, ?it/s]"
            ]
          },
          "metadata": {},
          "output_type": "display_data"
        },
        {
          "name": "stdout",
          "output_type": "stream",
          "text": [
            "\n",
            "Done!\n"
          ]
        },
        {
          "data": {
            "application/vnd.jupyter.widget-view+json": {
              "model_id": "606d549bbf68452994f1e0c6472192bf",
              "version_major": 2,
              "version_minor": 0
            },
            "text/plain": [
              "  0%|          | 0/64 [00:00<?, ?it/s]"
            ]
          },
          "metadata": {},
          "output_type": "display_data"
        },
        {
          "name": "stdout",
          "output_type": "stream",
          "text": [
            "Failed on /mnt/g/HUMAN/HUMAN 230/slice_1_160524_160759/amp-C-012.dat\n",
            "\n",
            "Done!\n"
          ]
        },
        {
          "data": {
            "application/vnd.jupyter.widget-view+json": {
              "model_id": "9f32a52ac6634533bdf75869c2ca8553",
              "version_major": 2,
              "version_minor": 0
            },
            "text/plain": [
              "  0%|          | 0/64 [00:00<?, ?it/s]"
            ]
          },
          "metadata": {},
          "output_type": "display_data"
        },
        {
          "name": "stdout",
          "output_type": "stream",
          "text": [
            "Failed on /mnt/g/HUMAN/HUMAN 230/slice_1_160524_143432/amp-D-003.dat\n",
            "Failed on /mnt/g/HUMAN/HUMAN 230/slice_1_160524_143432/amp-D-004.dat\n",
            "Failed on /mnt/g/HUMAN/HUMAN 230/slice_1_160524_143432/amp-D-005.dat\n",
            "Failed on /mnt/g/HUMAN/HUMAN 230/slice_1_160524_140014/amp-D-059.dat\n",
            "\n",
            "Done!\n"
          ]
        }
      ],
      "source": [
        "# human 229\n",
        "data_path = r\"/mnt/g/HUMAN/HUMAN 230/\"\n",
        "new_path = r\"/mnt/g/HUMAN/HUMAN 230/slice_1_160524_133401_n/\"\n",
        "connect_files(data_path, new_path, time_name)\n",
        "connect_files(data_path, new_path, ampC_names)\n",
        "connect_files(data_path, new_path, ampD_names)"
      ]
    },
    {
      "cell_type": "code",
      "execution_count": null,
      "id": "2e63af2e-e75e-4a7b-a8a7-9878e13ca0c3",
      "metadata": {
        "id": "2e63af2e-e75e-4a7b-a8a7-9878e13ca0c3",
        "outputId": "650d9fa9-e930-4929-9a62-56ce32539a88",
        "colab": {
          "referenced_widgets": [
            "b3270742c64d4b97a6018b2989b954f5",
            "a102928fcf21450bb95afe97f5afe552",
            "c4955bda00a24b46a4cf88b6e02a94bb"
          ]
        }
      },
      "outputs": [
        {
          "data": {
            "application/vnd.jupyter.widget-view+json": {
              "model_id": "b3270742c64d4b97a6018b2989b954f5",
              "version_major": 2,
              "version_minor": 0
            },
            "text/plain": [
              "  0%|          | 0/1 [00:00<?, ?it/s]"
            ]
          },
          "metadata": {},
          "output_type": "display_data"
        },
        {
          "name": "stdout",
          "output_type": "stream",
          "text": [
            "\n",
            "Done!\n"
          ]
        },
        {
          "data": {
            "application/vnd.jupyter.widget-view+json": {
              "model_id": "a102928fcf21450bb95afe97f5afe552",
              "version_major": 2,
              "version_minor": 0
            },
            "text/plain": [
              "  0%|          | 0/64 [00:00<?, ?it/s]"
            ]
          },
          "metadata": {},
          "output_type": "display_data"
        },
        {
          "name": "stdout",
          "output_type": "stream",
          "text": [
            "Failed on /mnt/g/HUMAN/HUMAN 230/slice_1_160524_160759/amp-C-012.dat\n",
            "\n",
            "Done!\n"
          ]
        },
        {
          "data": {
            "application/vnd.jupyter.widget-view+json": {
              "model_id": "c4955bda00a24b46a4cf88b6e02a94bb",
              "version_major": 2,
              "version_minor": 0
            },
            "text/plain": [
              "  0%|          | 0/64 [00:00<?, ?it/s]"
            ]
          },
          "metadata": {},
          "output_type": "display_data"
        },
        {
          "name": "stdout",
          "output_type": "stream",
          "text": [
            "Failed on /mnt/g/HUMAN/HUMAN 230/slice_1_160524_143432/amp-D-003.dat\n",
            "Failed on /mnt/g/HUMAN/HUMAN 230/slice_1_160524_143432/amp-D-004.dat\n",
            "Failed on /mnt/g/HUMAN/HUMAN 230/slice_1_160524_143432/amp-D-005.dat\n",
            "Failed on /mnt/g/HUMAN/HUMAN 230/slice_1_160524_140014/amp-D-059.dat\n",
            "\n",
            "Done!\n"
          ]
        }
      ],
      "source": [
        "# human 230\n",
        "data_path = r\"/mnt/g/HUMAN/HUMAN 230/\"\n",
        "new_path = r\"/mnt/g/HUMAN/HUMAN 230/slice_1_160524_133401_n/\"\n",
        "connect_files(data_path, new_path, time_name)\n",
        "connect_files(data_path, new_path, ampC_names)\n",
        "connect_files(data_path, new_path, ampD_names)"
      ]
    },
    {
      "cell_type": "code",
      "execution_count": null,
      "id": "5fc4e4a0-bdf5-4047-babc-b0c2739df0ac",
      "metadata": {
        "id": "5fc4e4a0-bdf5-4047-babc-b0c2739df0ac",
        "outputId": "c837754e-ee82-4e38-d4cc-786e29fe2ed5",
        "colab": {
          "referenced_widgets": [
            "74fea53845a94b6e993597f882adb9ef",
            "51d4e675eb8e4398bc63f7410a900b15",
            "c21f06a595f947b0b4c585101fc0b7ea"
          ]
        }
      },
      "outputs": [
        {
          "data": {
            "application/vnd.jupyter.widget-view+json": {
              "model_id": "74fea53845a94b6e993597f882adb9ef",
              "version_major": 2,
              "version_minor": 0
            },
            "text/plain": [
              "  0%|          | 0/1 [00:00<?, ?it/s]"
            ]
          },
          "metadata": {},
          "output_type": "display_data"
        },
        {
          "name": "stdout",
          "output_type": "stream",
          "text": [
            "\n",
            "Done!\n"
          ]
        },
        {
          "data": {
            "application/vnd.jupyter.widget-view+json": {
              "model_id": "51d4e675eb8e4398bc63f7410a900b15",
              "version_major": 2,
              "version_minor": 0
            },
            "text/plain": [
              "  0%|          | 0/64 [00:00<?, ?it/s]"
            ]
          },
          "metadata": {},
          "output_type": "display_data"
        },
        {
          "name": "stdout",
          "output_type": "stream",
          "text": [
            "\n",
            "Done!\n"
          ]
        },
        {
          "data": {
            "application/vnd.jupyter.widget-view+json": {
              "model_id": "c21f06a595f947b0b4c585101fc0b7ea",
              "version_major": 2,
              "version_minor": 0
            },
            "text/plain": [
              "  0%|          | 0/64 [00:00<?, ?it/s]"
            ]
          },
          "metadata": {},
          "output_type": "display_data"
        },
        {
          "name": "stdout",
          "output_type": "stream",
          "text": [
            "\n",
            "Done!\n"
          ]
        }
      ],
      "source": [
        "# human 231\n",
        "data_path = r\"/mnt/g/HUMAN/HUMAN 231/\"\n",
        "new_path = r\"/mnt/g/HUMAN/HUMAN 231/slice_1_160527_180032_n/\"\n",
        "connect_files(data_path, new_path, time_name)\n",
        "connect_files(data_path, new_path, ampC_names)\n",
        "connect_files(data_path, new_path, ampD_names)"
      ]
    },
    {
      "cell_type": "code",
      "execution_count": null,
      "id": "903947c7-d0a4-4a9f-b519-dd5234f40754",
      "metadata": {
        "id": "903947c7-d0a4-4a9f-b519-dd5234f40754",
        "outputId": "32352ecd-f197-480c-9e8c-095addec70a7",
        "colab": {
          "referenced_widgets": [
            "c0209e56eda94c5da00754933a721c0a",
            "a4ca4edfcd8a4bddb76a2e73b1333f11",
            "31804ec259f542f4a46492044b4a2f2d"
          ]
        }
      },
      "outputs": [
        {
          "data": {
            "application/vnd.jupyter.widget-view+json": {
              "model_id": "c0209e56eda94c5da00754933a721c0a",
              "version_major": 2,
              "version_minor": 0
            },
            "text/plain": [
              "  0%|          | 0/1 [00:00<?, ?it/s]"
            ]
          },
          "metadata": {},
          "output_type": "display_data"
        },
        {
          "name": "stdout",
          "output_type": "stream",
          "text": [
            "\n",
            "Done!\n"
          ]
        },
        {
          "data": {
            "application/vnd.jupyter.widget-view+json": {
              "model_id": "a4ca4edfcd8a4bddb76a2e73b1333f11",
              "version_major": 2,
              "version_minor": 0
            },
            "text/plain": [
              "  0%|          | 0/64 [00:00<?, ?it/s]"
            ]
          },
          "metadata": {},
          "output_type": "display_data"
        },
        {
          "name": "stdout",
          "output_type": "stream",
          "text": [
            "\n",
            "Done!\n"
          ]
        },
        {
          "data": {
            "application/vnd.jupyter.widget-view+json": {
              "model_id": "31804ec259f542f4a46492044b4a2f2d",
              "version_major": 2,
              "version_minor": 0
            },
            "text/plain": [
              "  0%|          | 0/64 [00:00<?, ?it/s]"
            ]
          },
          "metadata": {},
          "output_type": "display_data"
        },
        {
          "name": "stdout",
          "output_type": "stream",
          "text": [
            "\n",
            "Done!\n"
          ]
        }
      ],
      "source": [
        "# human 238\n",
        "data_path = r\"/mnt/g/HUMAN/HUMAN 238/\"\n",
        "new_path = r\"/mnt/g/HUMAN/HUMAN 238/slice_1_160705_152825_n/\"\n",
        "connect_files(data_path, new_path, time_name)\n",
        "connect_files(data_path, new_path, ampC_names)\n",
        "connect_files(data_path, new_path, ampD_names)"
      ]
    },
    {
      "cell_type": "code",
      "execution_count": null,
      "id": "ca5b9d32-a65b-4cf8-ae63-b5635d72c4b2",
      "metadata": {
        "id": "ca5b9d32-a65b-4cf8-ae63-b5635d72c4b2",
        "outputId": "8f182320-a62e-4016-da07-01e0750a56c7",
        "colab": {
          "referenced_widgets": [
            "1aa77eb167bc4abb8ae7082a25a38225",
            "850e714b92db4bdfa0a7e4c3d48ccdc4"
          ]
        }
      },
      "outputs": [
        {
          "data": {
            "application/vnd.jupyter.widget-view+json": {
              "model_id": "1aa77eb167bc4abb8ae7082a25a38225",
              "version_major": 2,
              "version_minor": 0
            },
            "text/plain": [
              "  0%|          | 0/1 [00:00<?, ?it/s]"
            ]
          },
          "metadata": {},
          "output_type": "display_data"
        },
        {
          "name": "stdout",
          "output_type": "stream",
          "text": [
            "Failed on /mnt/g/HUMAN/HUMAN 241/slice2_160908_000212/time.dat\n",
            "\n",
            "Done!\n"
          ]
        },
        {
          "data": {
            "application/vnd.jupyter.widget-view+json": {
              "model_id": "850e714b92db4bdfa0a7e4c3d48ccdc4",
              "version_major": 2,
              "version_minor": 0
            },
            "text/plain": [
              "  0%|          | 0/64 [00:00<?, ?it/s]"
            ]
          },
          "metadata": {},
          "output_type": "display_data"
        },
        {
          "name": "stdout",
          "output_type": "stream",
          "text": [
            "Failed on /mnt/g/HUMAN/HUMAN 241/slice2_160908_000212/amp-D-039.dat\n",
            "Failed on /mnt/g/HUMAN/HUMAN 241/slice2_160908_000212/amp-D-040.dat\n",
            "Failed on /mnt/g/HUMAN/HUMAN 241/slice2_160908_000212/amp-D-041.dat\n",
            "Failed on /mnt/g/HUMAN/HUMAN 241/slice2_160908_000212/amp-D-042.dat\n",
            "Failed on /mnt/g/HUMAN/HUMAN 241/slice2_160908_000212/amp-D-043.dat\n",
            "Failed on /mnt/g/HUMAN/HUMAN 241/slice2_160908_000212/amp-D-044.dat\n",
            "Failed on /mnt/g/HUMAN/HUMAN 241/slice2_160908_000212/amp-D-045.dat\n",
            "Failed on /mnt/g/HUMAN/HUMAN 241/slice2_160908_000212/amp-D-046.dat\n",
            "Failed on /mnt/g/HUMAN/HUMAN 241/slice2_160908_000212/amp-D-047.dat\n",
            "Failed on /mnt/g/HUMAN/HUMAN 241/slice2_160908_000212/amp-D-048.dat\n",
            "Failed on /mnt/g/HUMAN/HUMAN 241/slice2_160908_000212/amp-D-049.dat\n",
            "Failed on /mnt/g/HUMAN/HUMAN 241/slice2_160908_000212/amp-D-050.dat\n",
            "Failed on /mnt/g/HUMAN/HUMAN 241/slice2_160908_000212/amp-D-051.dat\n",
            "Failed on /mnt/g/HUMAN/HUMAN 241/slice2_160908_000212/amp-D-052.dat\n",
            "Failed on /mnt/g/HUMAN/HUMAN 241/slice2_160908_000212/amp-D-053.dat\n",
            "Failed on /mnt/g/HUMAN/HUMAN 241/slice2_160908_000212/amp-D-054.dat\n",
            "Failed on /mnt/g/HUMAN/HUMAN 241/slice2_160908_000212/amp-D-055.dat\n",
            "Failed on /mnt/g/HUMAN/HUMAN 241/slice2_160908_000212/amp-D-056.dat\n",
            "Failed on /mnt/g/HUMAN/HUMAN 241/slice2_160908_000212/amp-D-057.dat\n",
            "Failed on /mnt/g/HUMAN/HUMAN 241/slice2_160908_000212/amp-D-058.dat\n",
            "Failed on /mnt/g/HUMAN/HUMAN 241/slice2_160908_000212/amp-D-059.dat\n",
            "Failed on /mnt/g/HUMAN/HUMAN 241/slice2_160908_000212/amp-D-060.dat\n",
            "Failed on /mnt/g/HUMAN/HUMAN 241/slice2_160908_000212/amp-D-061.dat\n",
            "Failed on /mnt/g/HUMAN/HUMAN 241/slice2_160908_000212/amp-D-062.dat\n",
            "Failed on /mnt/g/HUMAN/HUMAN 241/slice2_160908_000212/amp-D-063.dat\n",
            "\n",
            "Done!\n"
          ]
        }
      ],
      "source": [
        "# human 241\n",
        "data_path = r\"/mnt/g/HUMAN/HUMAN 241/\"\n",
        "new_path = r\"/mnt/g/HUMAN/HUMAN 241/slice1_160907_172934_n/\"\n",
        "connect_files(data_path, new_path, time_name)\n",
        "connect_files(data_path, new_path, ampD_names)"
      ]
    },
    {
      "cell_type": "code",
      "execution_count": null,
      "id": "cd5b5f12-c648-4c29-ba83-eec471cb2456",
      "metadata": {
        "id": "cd5b5f12-c648-4c29-ba83-eec471cb2456"
      },
      "outputs": [],
      "source": [
        ""
      ]
    }
  ],
  "metadata": {
    "kernelspec": {
      "display_name": "Python 3 (ipykernel)",
      "language": "python",
      "name": "python3"
    },
    "language_info": {
      "codemirror_mode": {
        "name": "ipython",
        "version": 3
      },
      "file_extension": ".py",
      "mimetype": "text/x-python",
      "name": "python",
      "nbconvert_exporter": "python",
      "pygments_lexer": "ipython3",
      "version": "3.8.10"
    },
    "colab": {
      "name": "concat_files.ipynb",
      "provenance": [],
      "include_colab_link": true
    }
  },
  "nbformat": 4,
  "nbformat_minor": 5
}