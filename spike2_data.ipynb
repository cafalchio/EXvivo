{
  "nbformat": 4,
  "nbformat_minor": 0,
  "metadata": {
    "colab": {
      "name": "spike2_data.ipynb",
      "provenance": [],
      "collapsed_sections": [],
      "mount_file_id": "1WokdVwCjjiEcSLZSqIi16eIB9ugF8GFg",
      "authorship_tag": "ABX9TyMYRaBgq/aZoz8VPpP2lEjP",
      "include_colab_link": true
    },
    "kernelspec": {
      "name": "python3",
      "display_name": "Python 3"
    },
    "language_info": {
      "name": "python"
    }
  },
  "cells": [
    {
      "cell_type": "markdown",
      "metadata": {
        "id": "view-in-github",
        "colab_type": "text"
      },
      "source": [
        "<a href=\"https://colab.research.google.com/github/cafalchio/EXvivo/blob/main/spike2_data.ipynb\" target=\"_parent\"><img src=\"https://colab.research.google.com/assets/colab-badge.svg\" alt=\"Open In Colab\"/></a>"
      ]
    },
    {
      "cell_type": "markdown",
      "source": [
        "### Trying to replicate power calculation from spike2\n",
        "\n",
        "    \n",
        "**to do: Find why the power is different**"
      ],
      "metadata": {
        "id": "fdj0uhAEKFKZ"
      }
    },
    {
      "cell_type": "code",
      "source": [
        "!pip install neo -q"
      ],
      "metadata": {
        "id": "0A33w_SFtFxr"
      },
      "execution_count": 1,
      "outputs": []
    },
    {
      "cell_type": "code",
      "execution_count": 75,
      "metadata": {
        "id": "r3FGZ6jItEuh"
      },
      "outputs": [],
      "source": [
        "import neo\n",
        "import numpy as np\n",
        "import pandas as pd\n",
        "from matplotlib import pyplot as plt\n",
        "import seaborn as sns\n",
        "from scipy.signal import welch\n",
        "\n",
        "import gc\n",
        "gc.enable()\n",
        "import warnings\n",
        "warnings.filterwarnings('ignore')"
      ]
    },
    {
      "cell_type": "code",
      "source": [
        "# create a reader\n",
        "reader = neo.io.Spike2IO(filename='/content/drive/MyDrive/aHuman_data_Mark/210308_000.smr', try_signal_grouping=False)\n",
        "print(reader)\n",
        "# read the block\n",
        "raw_data = reader.read(lazy=False)[0]\n",
        "for seg in raw_data.segments:\n",
        "    print(\"Analyzing segment %d\" % seg.index)\n",
        "    raw_data = np.mean(seg.analogsignals[0], axis=1)\n",
        "del reader, seg\n",
        "gc.collect()"
      ],
      "metadata": {
        "colab": {
          "base_uri": "https://localhost:8080/"
        },
        "id": "MvBcvIwkODq8",
        "outputId": "127b91cf-f69f-451e-cee3-cd7bbabb3fc0"
      },
      "execution_count": 78,
      "outputs": [
        {
          "output_type": "stream",
          "name": "stdout",
          "text": [
            "Spike2IO: /content/drive/MyDrive/aHuman_data_Mark/210308_000.smr\n",
            "nb_block: 1\n",
            "nb_segment:  [1]\n",
            "signal_streams: [untitled (chans: 1), untitled (chans: 1)]\n",
            "signal_channels: [untitled, untitled]\n",
            "spike_channels: [untitled , untitled , untitled , untitled ]\n",
            "event_channels: [Keyboard]\n",
            "\n",
            "Analyzing segment 0\n"
          ]
        },
        {
          "output_type": "execute_result",
          "data": {
            "text/plain": [
              "12843"
            ]
          },
          "metadata": {},
          "execution_count": 78
        }
      ]
    },
    {
      "cell_type": "code",
      "source": [
        "def calculate_fft(x, window=1):\n",
        "    '''Calculates the LFP of the signal in windows n minutes'''\n",
        "    win = window * fs * 60\n",
        "    g = int(len(x)/win)\n",
        "    # print(g)\n",
        "    fftx = []\n",
        "    for i in range(g):\n",
        "        start = i*win\n",
        "        end = i*win+win\n",
        "        # print(len(data[start:end])/2500)\n",
        "        fftx.append(fft(x[start:end], n=2048*4))\n",
        "        break\n",
        "    return np.array(fftx)\n",
        "def plot_nice(data):\n",
        "    '''Adapted from Raphael Vallat blog\n",
        "    '''\n",
        "\n",
        "    fs = 5000\n",
        "    sns.set(font_scale=1.2)\n",
        "    # Define sampling frequency and time vector\n",
        "    time = np.arange(data.size) / fs\n",
        "    # return time\n",
        "    # Plot the signal\n",
        "    fig, ax = plt.subplots(1, 1, figsize=(20, 4))\n",
        "    plt.plot(time, data, lw=1.5, color='k')\n",
        "    plt.locator_params(axis='x', nbins=25)\n",
        "    plt.xlabel('Time (seconds)')\n",
        "    plt.ylabel('Voltage')\n",
        "    plt.xlim([time.min(), time.max()])\n",
        "    # plt.savefig(f'{slice_name}_treatments_ch0_no_notch.jpg')\n",
        "    sns.despine()\n",
        "    plt.show()\n",
        "    plt.close()\n",
        "    del time, fig, ax\n",
        "    gc.collect()\n",
        "\n",
        "def zoom_in(zoom= [], data=data):\n",
        "    fs = 5000\n",
        "    assert type(zoom) == list\n",
        "    # data = slice1_151015_130152.get_data()[0]\n",
        "    data = data[zoom[0]*fs:zoom[1]*fs]\n",
        "    time = np.arange(data.size) / fs\n",
        "    time  = time + zoom[0]\n",
        "    # Plot the signal\n",
        "    fig, ax = plt.subplots(1, 1, figsize=(20, 4))\n",
        "    plt.plot(time, data, lw=1.5, color='k')\n",
        "    plt.locator_params(axis='x', nbins=25)\n",
        "    plt.xlabel('Time (s)')\n",
        "    plt.show()"
      ],
      "metadata": {
        "id": "1T78u7VGIXvB"
      },
      "execution_count": 79,
      "outputs": []
    },
    {
      "cell_type": "code",
      "source": [
        "df = pd.read_csv('/content/drive/MyDrive/aHuman_data_Mark/spike2_hugh_times.csv')\n",
        "df.head()"
      ],
      "metadata": {
        "id": "RpoqcyZ0y5-P",
        "colab": {
          "base_uri": "https://localhost:8080/",
          "height": 143
        },
        "outputId": "7d233298-c8e7-460e-ff3f-2c044420ec0a"
      },
      "execution_count": 4,
      "outputs": [
        {
          "output_type": "execute_result",
          "data": {
            "text/html": [
              "\n",
              "  <div id=\"df-77bd8226-816b-4a5d-9f20-fdd95c96fdd7\">\n",
              "    <div class=\"colab-df-container\">\n",
              "      <div>\n",
              "<style scoped>\n",
              "    .dataframe tbody tr th:only-of-type {\n",
              "        vertical-align: middle;\n",
              "    }\n",
              "\n",
              "    .dataframe tbody tr th {\n",
              "        vertical-align: top;\n",
              "    }\n",
              "\n",
              "    .dataframe thead th {\n",
              "        text-align: right;\n",
              "    }\n",
              "</style>\n",
              "<table border=\"1\" class=\"dataframe\">\n",
              "  <thead>\n",
              "    <tr style=\"text-align: right;\">\n",
              "      <th></th>\n",
              "      <th>start_time</th>\n",
              "      <th>end_time</th>\n",
              "      <th>AUC</th>\n",
              "      <th>peak_amplitude</th>\n",
              "      <th>peak_freq</th>\n",
              "    </tr>\n",
              "  </thead>\n",
              "  <tbody>\n",
              "    <tr>\n",
              "      <th>0</th>\n",
              "      <td>10532</td>\n",
              "      <td>10592</td>\n",
              "      <td>1983.2569</td>\n",
              "      <td>179.44909</td>\n",
              "      <td>38.747116</td>\n",
              "    </tr>\n",
              "    <tr>\n",
              "      <th>1</th>\n",
              "      <td>10532</td>\n",
              "      <td>10542</td>\n",
              "      <td>1990.5267</td>\n",
              "      <td>213.91618</td>\n",
              "      <td>41.270185</td>\n",
              "    </tr>\n",
              "    <tr>\n",
              "      <th>2</th>\n",
              "      <td>10532</td>\n",
              "      <td>10832</td>\n",
              "      <td>1863.9016</td>\n",
              "      <td>170.91608</td>\n",
              "      <td>38.910035</td>\n",
              "    </tr>\n",
              "  </tbody>\n",
              "</table>\n",
              "</div>\n",
              "      <button class=\"colab-df-convert\" onclick=\"convertToInteractive('df-77bd8226-816b-4a5d-9f20-fdd95c96fdd7')\"\n",
              "              title=\"Convert this dataframe to an interactive table.\"\n",
              "              style=\"display:none;\">\n",
              "        \n",
              "  <svg xmlns=\"http://www.w3.org/2000/svg\" height=\"24px\"viewBox=\"0 0 24 24\"\n",
              "       width=\"24px\">\n",
              "    <path d=\"M0 0h24v24H0V0z\" fill=\"none\"/>\n",
              "    <path d=\"M18.56 5.44l.94 2.06.94-2.06 2.06-.94-2.06-.94-.94-2.06-.94 2.06-2.06.94zm-11 1L8.5 8.5l.94-2.06 2.06-.94-2.06-.94L8.5 2.5l-.94 2.06-2.06.94zm10 10l.94 2.06.94-2.06 2.06-.94-2.06-.94-.94-2.06-.94 2.06-2.06.94z\"/><path d=\"M17.41 7.96l-1.37-1.37c-.4-.4-.92-.59-1.43-.59-.52 0-1.04.2-1.43.59L10.3 9.45l-7.72 7.72c-.78.78-.78 2.05 0 2.83L4 21.41c.39.39.9.59 1.41.59.51 0 1.02-.2 1.41-.59l7.78-7.78 2.81-2.81c.8-.78.8-2.07 0-2.86zM5.41 20L4 18.59l7.72-7.72 1.47 1.35L5.41 20z\"/>\n",
              "  </svg>\n",
              "      </button>\n",
              "      \n",
              "  <style>\n",
              "    .colab-df-container {\n",
              "      display:flex;\n",
              "      flex-wrap:wrap;\n",
              "      gap: 12px;\n",
              "    }\n",
              "\n",
              "    .colab-df-convert {\n",
              "      background-color: #E8F0FE;\n",
              "      border: none;\n",
              "      border-radius: 50%;\n",
              "      cursor: pointer;\n",
              "      display: none;\n",
              "      fill: #1967D2;\n",
              "      height: 32px;\n",
              "      padding: 0 0 0 0;\n",
              "      width: 32px;\n",
              "    }\n",
              "\n",
              "    .colab-df-convert:hover {\n",
              "      background-color: #E2EBFA;\n",
              "      box-shadow: 0px 1px 2px rgba(60, 64, 67, 0.3), 0px 1px 3px 1px rgba(60, 64, 67, 0.15);\n",
              "      fill: #174EA6;\n",
              "    }\n",
              "\n",
              "    [theme=dark] .colab-df-convert {\n",
              "      background-color: #3B4455;\n",
              "      fill: #D2E3FC;\n",
              "    }\n",
              "\n",
              "    [theme=dark] .colab-df-convert:hover {\n",
              "      background-color: #434B5C;\n",
              "      box-shadow: 0px 1px 3px 1px rgba(0, 0, 0, 0.15);\n",
              "      filter: drop-shadow(0px 1px 2px rgba(0, 0, 0, 0.3));\n",
              "      fill: #FFFFFF;\n",
              "    }\n",
              "  </style>\n",
              "\n",
              "      <script>\n",
              "        const buttonEl =\n",
              "          document.querySelector('#df-77bd8226-816b-4a5d-9f20-fdd95c96fdd7 button.colab-df-convert');\n",
              "        buttonEl.style.display =\n",
              "          google.colab.kernel.accessAllowed ? 'block' : 'none';\n",
              "\n",
              "        async function convertToInteractive(key) {\n",
              "          const element = document.querySelector('#df-77bd8226-816b-4a5d-9f20-fdd95c96fdd7');\n",
              "          const dataTable =\n",
              "            await google.colab.kernel.invokeFunction('convertToInteractive',\n",
              "                                                     [key], {});\n",
              "          if (!dataTable) return;\n",
              "\n",
              "          const docLinkHtml = 'Like what you see? Visit the ' +\n",
              "            '<a target=\"_blank\" href=https://colab.research.google.com/notebooks/data_table.ipynb>data table notebook</a>'\n",
              "            + ' to learn more about interactive tables.';\n",
              "          element.innerHTML = '';\n",
              "          dataTable['output_type'] = 'display_data';\n",
              "          await google.colab.output.renderOutput(dataTable, element);\n",
              "          const docLink = document.createElement('div');\n",
              "          docLink.innerHTML = docLinkHtml;\n",
              "          element.appendChild(docLink);\n",
              "        }\n",
              "      </script>\n",
              "    </div>\n",
              "  </div>\n",
              "  "
            ],
            "text/plain": [
              "   start_time  end_time       AUC   peak_amplitude  peak_freq\n",
              "0       10532     10592  1983.2569       179.44909  38.747116\n",
              "1       10532     10542  1990.5267       213.91618  41.270185\n",
              "2       10532     10832  1863.9016       170.91608  38.910035"
            ]
          },
          "metadata": {},
          "execution_count": 4
        }
      ]
    },
    {
      "cell_type": "code",
      "source": [
        "plot_nice(raw_data)"
      ],
      "metadata": {
        "colab": {
          "base_uri": "https://localhost:8080/",
          "height": 289
        },
        "id": "bsPZG6T3N7Gs",
        "outputId": "3171a225-c6c0-432d-e301-f86107f7adb5"
      },
      "execution_count": 5,
      "outputs": [
        {
          "output_type": "display_data",
          "data": {
            "image/png": "[encoded data removed]",
            "text/plain": [
              "<Figure size 1440x288 with 1 Axes>"
            ]
          },
          "metadata": {}
        }
      ]
    },
    {
      "cell_type": "code",
      "source": [
        "df.head()"
      ],
      "metadata": {
        "colab": {
          "base_uri": "https://localhost:8080/",
          "height": 143
        },
        "id": "RPKMEX5daWjZ",
        "outputId": "5ab8c41e-a9a3-48dd-d59f-fb89ca09dd92"
      },
      "execution_count": 142,
      "outputs": [
        {
          "output_type": "execute_result",
          "data": {
            "text/html": [
              "\n",
              "  <div id=\"df-6e048765-c266-4d73-9692-e617389bce23\">\n",
              "    <div class=\"colab-df-container\">\n",
              "      <div>\n",
              "<style scoped>\n",
              "    .dataframe tbody tr th:only-of-type {\n",
              "        vertical-align: middle;\n",
              "    }\n",
              "\n",
              "    .dataframe tbody tr th {\n",
              "        vertical-align: top;\n",
              "    }\n",
              "\n",
              "    .dataframe thead th {\n",
              "        text-align: right;\n",
              "    }\n",
              "</style>\n",
              "<table border=\"1\" class=\"dataframe\">\n",
              "  <thead>\n",
              "    <tr style=\"text-align: right;\">\n",
              "      <th></th>\n",
              "      <th>start_time</th>\n",
              "      <th>end_time</th>\n",
              "      <th>AUC</th>\n",
              "      <th>peak_amplitude</th>\n",
              "      <th>peak_freq</th>\n",
              "    </tr>\n",
              "  </thead>\n",
              "  <tbody>\n",
              "    <tr>\n",
              "      <th>0</th>\n",
              "      <td>10532</td>\n",
              "      <td>10592</td>\n",
              "      <td>1983.2569</td>\n",
              "      <td>179.44909</td>\n",
              "      <td>38.747116</td>\n",
              "    </tr>\n",
              "    <tr>\n",
              "      <th>1</th>\n",
              "      <td>10532</td>\n",
              "      <td>10542</td>\n",
              "      <td>1990.5267</td>\n",
              "      <td>213.91618</td>\n",
              "      <td>41.270185</td>\n",
              "    </tr>\n",
              "    <tr>\n",
              "      <th>2</th>\n",
              "      <td>10532</td>\n",
              "      <td>10832</td>\n",
              "      <td>1863.9016</td>\n",
              "      <td>170.91608</td>\n",
              "      <td>38.910035</td>\n",
              "    </tr>\n",
              "  </tbody>\n",
              "</table>\n",
              "</div>\n",
              "      <button class=\"colab-df-convert\" onclick=\"convertToInteractive('df-6e048765-c266-4d73-9692-e617389bce23')\"\n",
              "              title=\"Convert this dataframe to an interactive table.\"\n",
              "              style=\"display:none;\">\n",
              "        \n",
              "  <svg xmlns=\"http://www.w3.org/2000/svg\" height=\"24px\"viewBox=\"0 0 24 24\"\n",
              "       width=\"24px\">\n",
              "    <path d=\"M0 0h24v24H0V0z\" fill=\"none\"/>\n",
              "    <path d=\"M18.56 5.44l.94 2.06.94-2.06 2.06-.94-2.06-.94-.94-2.06-.94 2.06-2.06.94zm-11 1L8.5 8.5l.94-2.06 2.06-.94-2.06-.94L8.5 2.5l-.94 2.06-2.06.94zm10 10l.94 2.06.94-2.06 2.06-.94-2.06-.94-.94-2.06-.94 2.06-2.06.94z\"/><path d=\"M17.41 7.96l-1.37-1.37c-.4-.4-.92-.59-1.43-.59-.52 0-1.04.2-1.43.59L10.3 9.45l-7.72 7.72c-.78.78-.78 2.05 0 2.83L4 21.41c.39.39.9.59 1.41.59.51 0 1.02-.2 1.41-.59l7.78-7.78 2.81-2.81c.8-.78.8-2.07 0-2.86zM5.41 20L4 18.59l7.72-7.72 1.47 1.35L5.41 20z\"/>\n",
              "  </svg>\n",
              "      </button>\n",
              "      \n",
              "  <style>\n",
              "    .colab-df-container {\n",
              "      display:flex;\n",
              "      flex-wrap:wrap;\n",
              "      gap: 12px;\n",
              "    }\n",
              "\n",
              "    .colab-df-convert {\n",
              "      background-color: #E8F0FE;\n",
              "      border: none;\n",
              "      border-radius: 50%;\n",
              "      cursor: pointer;\n",
              "      display: none;\n",
              "      fill: #1967D2;\n",
              "      height: 32px;\n",
              "      padding: 0 0 0 0;\n",
              "      width: 32px;\n",
              "    }\n",
              "\n",
              "    .colab-df-convert:hover {\n",
              "      background-color: #E2EBFA;\n",
              "      box-shadow: 0px 1px 2px rgba(60, 64, 67, 0.3), 0px 1px 3px 1px rgba(60, 64, 67, 0.15);\n",
              "      fill: #174EA6;\n",
              "    }\n",
              "\n",
              "    [theme=dark] .colab-df-convert {\n",
              "      background-color: #3B4455;\n",
              "      fill: #D2E3FC;\n",
              "    }\n",
              "\n",
              "    [theme=dark] .colab-df-convert:hover {\n",
              "      background-color: #434B5C;\n",
              "      box-shadow: 0px 1px 3px 1px rgba(0, 0, 0, 0.15);\n",
              "      filter: drop-shadow(0px 1px 2px rgba(0, 0, 0, 0.3));\n",
              "      fill: #FFFFFF;\n",
              "    }\n",
              "  </style>\n",
              "\n",
              "      <script>\n",
              "        const buttonEl =\n",
              "          document.querySelector('#df-6e048765-c266-4d73-9692-e617389bce23 button.colab-df-convert');\n",
              "        buttonEl.style.display =\n",
              "          google.colab.kernel.accessAllowed ? 'block' : 'none';\n",
              "\n",
              "        async function convertToInteractive(key) {\n",
              "          const element = document.querySelector('#df-6e048765-c266-4d73-9692-e617389bce23');\n",
              "          const dataTable =\n",
              "            await google.colab.kernel.invokeFunction('convertToInteractive',\n",
              "                                                     [key], {});\n",
              "          if (!dataTable) return;\n",
              "\n",
              "          const docLinkHtml = 'Like what you see? Visit the ' +\n",
              "            '<a target=\"_blank\" href=https://colab.research.google.com/notebooks/data_table.ipynb>data table notebook</a>'\n",
              "            + ' to learn more about interactive tables.';\n",
              "          element.innerHTML = '';\n",
              "          dataTable['output_type'] = 'display_data';\n",
              "          await google.colab.output.renderOutput(dataTable, element);\n",
              "          const docLink = document.createElement('div');\n",
              "          docLink.innerHTML = docLinkHtml;\n",
              "          element.appendChild(docLink);\n",
              "        }\n",
              "      </script>\n",
              "    </div>\n",
              "  </div>\n",
              "  "
            ],
            "text/plain": [
              "   start_time  end_time       AUC   peak_amplitude  peak_freq\n",
              "0       10532     10592  1983.2569       179.44909  38.747116\n",
              "1       10532     10542  1990.5267       213.91618  41.270185\n",
              "2       10532     10832  1863.9016       170.91608  38.910035"
            ]
          },
          "metadata": {},
          "execution_count": 142
        }
      ]
    },
    {
      "cell_type": "code",
      "source": [
        "# Trying to replicate spike2 fft power\n",
        "fs = 5000\n",
        "data = raw_data[10532*fs:10832*fs]\n",
        "freqs, res_fft = welch(data, fs=fs, window='hann', nperseg=8192/2, \\\n",
        "                       nfft = 8192, scaling = 'density', average='mean')\n",
        "res_fft = res_fft\n",
        "sns.set(font_scale=1.2, style='white')\n",
        "idx_delta = np.logical_and(freqs >= 20, freqs <= 80)\n",
        "plt.figure(figsize=(8,6))\n",
        "plt.plot(freqs, res_fft)\n",
        "plt.xlim(0,150)\n",
        "idx = (freqs >=20.) & (freqs<=80)\n",
        "x = freqs[idx]\n",
        "y = res_fft[idx]\n",
        "plt.fill_between(freqs, res_fft, where=idx_delta, color='green', alpha=.4, label = \n",
        "                 f'gamma (20-80Hz)\\npeak: {x[np.where(y == y.max())][0]:.1f}Hz\\nArea: {np.trapz(x=x, y=y):.1f}')\n",
        "plt.xlabel('Frequency (Hz)')\n",
        "plt.ylim(0, )\n",
        "plt.ylabel('Power density (V^2/Hz)')\n",
        "plt.legend()\n",
        "plt.savefig('example_3_from_hugh.jpg')\n",
        "plt.show()\n",
        "\n",
        "print(f'Area under the curve in gamma: {np.trapz(x=x, y = y):.2f},  max frequency {x[np.where(y == y.max())][0]:.2f}Hz')"
      ],
      "metadata": {
        "colab": {
          "base_uri": "https://localhost:8080/",
          "height": 417
        },
        "id": "PSSWZU_-iJ0N",
        "outputId": "26a5e598-5418-49d0-9c5a-0abff8de4bb0"
      },
      "execution_count": 177,
      "outputs": [
        {
          "output_type": "display_data",
          "data": {
            "image/png": "[encoded data removed]",
            "text/plain": [
              "<Figure size 576x432 with 1 Axes>"
            ]
          },
          "metadata": {}
        },
        {
          "output_type": "stream",
          "name": "stdout",
          "text": [
            "Area under the curve in gamma: 3051.65,  max frequency 40.28Hz\n"
          ]
        }
      ]
    },
    {
      "cell_type": "code",
      "source": [
        ""
      ],
      "metadata": {
        "id": "z6_iTS2ppffj"
      },
      "execution_count": null,
      "outputs": []
    }
  ]
}